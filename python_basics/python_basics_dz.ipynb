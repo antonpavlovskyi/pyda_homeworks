{
 "cells": [
  {
   "cell_type": "markdown",
   "id": "mature-lottery",
   "metadata": {},
   "source": [
    "## Домашнее задание к лекции \"Основы Python\""
   ]
  },
  {
   "cell_type": "markdown",
   "id": "sexual-harvard",
   "metadata": {},
   "source": [
    "### Задание 1 - сравнение длины переменных"
   ]
  },
  {
   "cell_type": "code",
   "execution_count": 2,
   "id": "contemporary-amber",
   "metadata": {},
   "outputs": [
    {
     "name": "stdout",
     "output_type": "stream",
     "text": [
      "Фраза 1 длиннее фразы 2\n"
     ]
    }
   ],
   "source": [
    "phrase_1 = \"Насколько проще было бы писать программы, если бы не заказчики\"\n",
    "phrase_2 = \"640Кб должно хватить для любых задач. Билл Гейтс (по легенде)\"\n",
    "if len(phrase_1) > len(phrase_2):\n",
    "    print(\"Фраза 1 длиннее фразы 2\")\n",
    "elif len(phrase_1) < len(phrase_2):\n",
    "    print(\"Фраза 2 длиннее фразы 1\")\n",
    "else:\n",
    "    print(\"Фразы равной длины\")"
   ]
  },
  {
   "cell_type": "markdown",
   "id": "considered-asbestos",
   "metadata": {},
   "source": [
    "### Задание 2 - определение високосного года"
   ]
  },
  {
   "cell_type": "code",
   "execution_count": 20,
   "id": "biblical-broadcast",
   "metadata": {},
   "outputs": [
    {
     "name": "stdout",
     "output_type": "stream",
     "text": [
      "1900 Обычный год\n"
     ]
    }
   ],
   "source": [
    "year = 1900\n",
    "if ((year % 4 == 0) and (year % 100 != 0)) or (year % 400 == 0):\n",
    "    print(year, \"Високосный год\")\n",
    "else:\n",
    "    print(year, \"Обычный год\")"
   ]
  },
  {
   "cell_type": "markdown",
   "id": "welsh-green",
   "metadata": {},
   "source": [
    "### Задание 3 - определение знака зодиака"
   ]
  },
  {
   "cell_type": "code",
   "execution_count": 1,
   "id": "covered-outreach",
   "metadata": {},
   "outputs": [
    {
     "name": "stdin",
     "output_type": "stream",
     "text": [
      "Введите день: 19\n",
      "Введите месяц: Май\n"
     ]
    },
    {
     "name": "stdout",
     "output_type": "stream",
     "text": [
      "Ваш знак зодиака: Телец\n"
     ]
    }
   ],
   "source": [
    "date = int(input(\"Введите день:\"))\n",
    "month = str(input(\"Введите месяц:\"))\n",
    "\n",
    "if (date >= 21 and date <= 31 and month == \"Март\") or (\n",
    "    month == \"Апрель\" and date <= 19\n",
    "):\n",
    "    print(\"Ваш знак зодиака: Овен\")\n",
    "elif (date >= 20 and date <= 30 and month == \"Апрель\") or (\n",
    "    month == \"Май\" and date <= 20\n",
    "):\n",
    "    print(\"Ваш знак зодиака: Телец\")\n",
    "elif (date >= 21 and date <= 31 and month == \"Май\") or (month == \"Июнь\" and date <= 21):\n",
    "    print(\"Ваш знак зодиака: Близнецы\")\n",
    "elif (date >= 22 and date <= 30 and month == \"Июнь\") or (\n",
    "    month == \"Июль\" and date <= 22\n",
    "):\n",
    "    print(\"Ваш знак зодиака: Рак\")\n",
    "elif (date >= 23 and date <= 31 and month == \"Июль\") or (\n",
    "    month == \"Август\" and date <= 22\n",
    "):\n",
    "    print(\"Ваш знак зодиака: Лев\")\n",
    "elif (date >= 23 and date <= 31 and month == \"Август\") or (\n",
    "    month == \"Сентябрь\" and date <= 22\n",
    "):\n",
    "    print(\"Ваш знак зодиака: Дева\")\n",
    "elif (date >= 23 and date <= 30 and month == \"Сентябрь\") or (\n",
    "    month == \"Октябрь\" and date <= 23\n",
    "):\n",
    "    print(\"Ваш знак зодиака: Весы\")\n",
    "elif (date >= 24 and date <= 31 and month == \"Октябрь\") or (\n",
    "    month == \"Ноябрь\" and date <= 22\n",
    "):\n",
    "    print(\"Ваш знак зодиака: Скорпион\")\n",
    "elif (date >= 23 and date <= 30 and month == \"Ноябрь\") or (\n",
    "    month == \"Декабрь\" and date <= 21\n",
    "):\n",
    "    print(\"Ваш знак зодиака: Стрелец\")\n",
    "elif (date >= 22 and date <= 31 and month == \"Декабрь\") or (\n",
    "    month == \"Январь\" and date <= 20\n",
    "):\n",
    "    print(\"Ваш знак зодиака: Козерог\")\n",
    "elif (date >= 21 and date <= 31 and month == \"Январь\") or (\n",
    "    month == \"Февраль\" and date <= 18\n",
    "):\n",
    "    print(\"Ваш знак зодиака: Водолей\")\n",
    "elif (date >= 19 and date <= 29 and month == \"Февраль\") or (\n",
    "    month == \"Март\" and date <= 20\n",
    "):\n",
    "    print(\"Ваш знак зодиака: Рыбы\")"
   ]
  },
  {
   "cell_type": "markdown",
   "id": "parental-migration",
   "metadata": {},
   "source": [
    "### Задание 4 - определение оптимальной упаковки"
   ]
  },
  {
   "cell_type": "code",
   "execution_count": 28,
   "id": "southwest-plane",
   "metadata": {},
   "outputs": [
    {
     "name": "stdout",
     "output_type": "stream",
     "text": [
      "Упаковка для лыж\n"
     ]
    }
   ],
   "source": [
    "width = 45\n",
    "length = 205\n",
    "height = 45\n",
    "if length > 200:\n",
    "    print(\"Упаковка для лыж\")\n",
    "elif width + length + height < 45:\n",
    "    print(\"Коробка №1\")\n",
    "elif (50 > width > 15) or (50 > length > 15) or (50 > height > 15):\n",
    "    print(\"Коробка №2\")\n",
    "else:\n",
    "    print(\"Стандартная коробка №3\")"
   ]
  },
  {
   "cell_type": "markdown",
   "id": "mature-recorder",
   "metadata": {},
   "source": [
    "### Задание 5 (необязательное) - счастливый билет"
   ]
  },
  {
   "cell_type": "code",
   "execution_count": 53,
   "id": "prospective-termination",
   "metadata": {},
   "outputs": [
    {
     "name": "stdout",
     "output_type": "stream",
     "text": [
      "Счастливый билет\n"
     ]
    }
   ],
   "source": [
    "ticket_number = 123321\n",
    "ticket_number = str(ticket_number)\n",
    "ticket_number = list(ticket_number)\n",
    "first_sum = int(ticket_number[0]) + int(ticket_number[1]) + int(ticket_number[2])\n",
    "second_sum = int(ticket_number[3]) + int(ticket_number[4]) + int(ticket_number[5])\n",
    "if first_sum == second_sum:\n",
    "    print(\"Счастливый билет\")\n",
    "else:\n",
    "    print(\"Неасчастливый билет\")"
   ]
  },
  {
   "cell_type": "markdown",
   "id": "returning-thriller",
   "metadata": {},
   "source": [
    "### Задание 6 (необязательное) - площадь фигуры"
   ]
  },
  {
   "cell_type": "code",
   "execution_count": 3,
   "id": "emotional-flexibility",
   "metadata": {},
   "outputs": [
    {
     "name": "stdin",
     "output_type": "stream",
     "text": [
      "Введите тип фигуры:  прямоугольник\n",
      "Введите длину стороны A:  2\n",
      "Введите длину стороны B:  3\n"
     ]
    },
    {
     "name": "stdout",
     "output_type": "stream",
     "text": [
      "Площадь прямоугольника:  6\n"
     ]
    }
   ],
   "source": [
    "type = str(input(\"Введите тип фигуры: \"))\n",
    "if type == \"круг\":\n",
    "    radius = int(input(\"Введите радиус круга\"))\n",
    "    s = 3.14 * (radius ** 2)\n",
    "    print(\"Площадь круга: \", s)\n",
    "elif type == \"треугольник\":\n",
    "    a = int(input(\"Введите длину стороны A: \"))\n",
    "    b = int(input(\"Введите длину стороны B: \"))\n",
    "    c = int(input(\"Введите длину стороны C: \"))\n",
    "    p = (a + b + c) / 2\n",
    "    s = (p * (p - a) * (p - b) * (p - c)) ** 1 / 2\n",
    "    print(\"Площадь треугольника: \", s)\n",
    "elif type == \"прямоугольник\":\n",
    "    a = int(input(\"Введите длину стороны A: \"))\n",
    "    b = int(input(\"Введите длину стороны B: \"))\n",
    "    s = a * b\n",
    "    print(\"Площадь прямоугольника: \", s)"
   ]
  },
  {
   "cell_type": "code",
   "execution_count": null,
   "id": "clean-identification",
   "metadata": {},
   "outputs": [],
   "source": []
  }
 ],
 "metadata": {
  "kernelspec": {
   "display_name": "Python 3",
   "language": "python",
   "name": "python3"
  },
  "language_info": {
   "codemirror_mode": {
    "name": "ipython",
    "version": 3
   },
   "file_extension": ".py",
   "mimetype": "text/x-python",
   "name": "python",
   "nbconvert_exporter": "python",
   "pygments_lexer": "ipython3",
   "version": "3.8.5"
  },
  "toc-autonumbering": false
 },
 "nbformat": 4,
 "nbformat_minor": 5
}
