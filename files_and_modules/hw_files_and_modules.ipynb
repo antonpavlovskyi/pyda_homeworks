{
 "cells": [
  {
   "cell_type": "code",
   "execution_count": 3,
   "id": "changing-organization",
   "metadata": {},
   "outputs": [],
   "source": [
    "import os\n",
    "import json"
   ]
  },
  {
   "cell_type": "code",
   "execution_count": 29,
   "id": "acoustic-frank",
   "metadata": {},
   "outputs": [
    {
     "data": {
      "text/plain": [
       "['practice_files/visit_log.csv', 'practice_files/purchase_log.txt']"
      ]
     },
     "execution_count": 29,
     "metadata": {},
     "output_type": "execute_result"
    }
   ],
   "source": [
    "# Прочитать все файлы в папке и вывести список с этими файлами.\n",
    "files = []\n",
    "for root, directory, file in os.walk('practice_files'):\n",
    "    for i in file:\n",
    "        if \".csv\" in i or \".txt\" in i:\n",
    "            file_in_folder = files.append(os.path.join(root, i))\n",
    "files"
   ]
  },
  {
   "cell_type": "code",
   "execution_count": 30,
   "id": "dramatic-attachment",
   "metadata": {},
   "outputs": [
    {
     "name": "stdout",
     "output_type": "stream",
     "text": [
      "[('1840e0b9d4', 'Продукты'), ('4e4f90fcfb', 'Электроника'), ('afea8d72fc', 'Электроника'), ('373a6055fe', 'Бытовая техника'), ('9b2ab046f3', 'Электроника')]\n"
     ]
    }
   ],
   "source": [
    "# Прочитать данные из файла visit_log.csv и сохранить в виде словаря (в оперативной памяти),\n",
    "# где ключом будет user_id, а значением - category {'1840e0b9d4': 'Продукты'}.\n",
    "with open(files[1]) as purch:\n",
    "    purchases = {}\n",
    "    for line in purch:\n",
    "        line = line.strip()\n",
    "        purchase_log_dict = json.loads(line)\n",
    "        next(purch)\n",
    "        purchases[purchase_log_dict[\"user_id\"]] = purchase_log_dict[\"category\"]\n",
    "print(list(purchases.items())[:5])"
   ]
  },
  {
   "cell_type": "code",
   "execution_count": 33,
   "id": "present-glucose",
   "metadata": {},
   "outputs": [],
   "source": [
    "# Прочитать файл purchase_log.txt построчно и записать в файл funnel.csv тех ползователей, которые совпадаюь в файлах visit_log.csv и purchase_log.txt.\n",
    "# Файл должен состоять из 3 колонок: user_id, source и category.\n",
    "with open(files[0], 'r') as visits:\n",
    "    with open(\"practice_files/funnel.csv\", 'a') as funnel:\n",
    "        funnel.write(\"user_id,source,category\\n\")\n",
    "        for visit in visits:\n",
    "            visit = visit.strip().split(\",\")\n",
    "            if visit[0] in purchases.keys():\n",
    "                funnel.write(f\"{visit[0]}, {visit[1]}, {purchases[visit[0]]}\\n\")"
   ]
  },
  {
   "cell_type": "code",
   "execution_count": 34,
   "id": "communist-midwest",
   "metadata": {},
   "outputs": [
    {
     "name": "stdout",
     "output_type": "stream",
     "text": [
      "user_id,source,category\n",
      "\n",
      "1840e0b9d4, other, Продукты\n",
      "\n",
      "4e4f90fcfb, context, Электроника\n",
      "\n",
      "afea8d72fc, other, Электроника\n",
      "\n",
      "2824221f38, email, Продукты\n",
      "\n",
      "373a6055fe, other, Бытовая техника\n",
      "\n",
      "9b2ab046f3, other, Электроника\n",
      "\n"
     ]
    }
   ],
   "source": [
    "# Проверка файла funnel.csv с помощью вывода первых 7 строк.\n",
    "with open(\"practice_files/funnel.csv\", 'r') as funnel:\n",
    "    for i, line in enumerate(funnel):\n",
    "        print(line)\n",
    "        if i > 5:\n",
    "            break"
   ]
  }
 ],
 "metadata": {
  "kernelspec": {
   "display_name": "Python 3",
   "language": "python",
   "name": "python3"
  },
  "language_info": {
   "codemirror_mode": {
    "name": "ipython",
    "version": 3
   },
   "file_extension": ".py",
   "mimetype": "text/x-python",
   "name": "python",
   "nbconvert_exporter": "python",
   "pygments_lexer": "ipython3",
   "version": "3.8.5"
  }
 },
 "nbformat": 4,
 "nbformat_minor": 5
}
