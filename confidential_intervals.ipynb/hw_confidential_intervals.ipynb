{
 "cells": [
  {
   "cell_type": "markdown",
   "id": "aaabff64",
   "metadata": {},
   "source": [
    "# Задания для самостоятельного решения\n"
   ]
  },
  {
   "cell_type": "code",
   "execution_count": 19,
   "id": "9028bc12",
   "metadata": {},
   "outputs": [],
   "source": [
    "import numpy as np\n",
    "import pandas as pd\n",
    "import scipy.stats\n",
    "import numpy as np\n",
    "import math"
   ]
  },
  {
   "cell_type": "markdown",
   "id": "3588bd90",
   "metadata": {},
   "source": [
    "1. Найдите минимально необходимый объем выборки для построения интервальной оценки среднего с точностью ∆ = 3, дисперсией σ^2 = 225 и уровнем доверия β = 0.95."
   ]
  },
  {
   "cell_type": "code",
   "execution_count": 3,
   "id": "b7e78afe",
   "metadata": {},
   "outputs": [
    {
     "data": {
      "text/plain": [
       "96.03999999999998"
      ]
     },
     "execution_count": 3,
     "metadata": {},
     "output_type": "execute_result"
    }
   ],
   "source": [
    "# квантиль при уровне доверия β = 0.95 равен 1.960 при двустороннем распределении\n",
    "min_sample = (1.960 * math.sqrt(225) / 3) ** 2\n",
    "min_sample"
   ]
  },
  {
   "cell_type": "markdown",
   "id": "1fdf0532",
   "metadata": {},
   "source": [
    "2. Вам даны две выборки роста мужчин и женщин. Докажите, используя t-Тест Стьдента, что различия между выборками незначительно, если уровень значимости равен 0.001"
   ]
  },
  {
   "cell_type": "code",
   "execution_count": 4,
   "id": "a5a9b9f7",
   "metadata": {},
   "outputs": [
    {
     "data": {
      "text/plain": [
       "Ttest_indResult(statistic=3.043281287921002, pvalue=0.0023401403045670674)"
      ]
     },
     "execution_count": 4,
     "metadata": {},
     "output_type": "execute_result"
    }
   ],
   "source": [
    "import scipy.stats as stats\n",
    "np.random.seed(12345678)\n",
    "population_men  =stats.norm.rvs(loc=19,scale=171,size=11000000)  # Выборка мужчин со средним ростом 171\n",
    "population_women=stats.norm.rvs(loc=16,scale=165,size=12000)  # Выборка женщин со средним ростом 165\n",
    "\n",
    "stats.ttest_ind(population_men,population_women)"
   ]
  },
  {
   "cell_type": "markdown",
   "id": "d1e28adb",
   "metadata": {},
   "source": [
    "pvalue = 0.002 > уровня значимости 0.001 значит различие между выборками незначительно "
   ]
  },
  {
   "cell_type": "markdown",
   "id": "67d7e399",
   "metadata": {},
   "source": [
    "3. Определите объем необходимой выборки для исследования среднего чека за кофе в случайном городе, если известно, что в этом городе стандартное отклонение = 150, уровень доверия = 95%. Погрешность 50 рублей. "
   ]
  },
  {
   "cell_type": "code",
   "execution_count": 5,
   "id": "b5edaa86",
   "metadata": {},
   "outputs": [
    {
     "data": {
      "text/plain": [
       "34.5744"
      ]
     },
     "execution_count": 5,
     "metadata": {},
     "output_type": "execute_result"
    }
   ],
   "source": [
    "# квантиль при уровне доверия β = 0.95 равен 1.960 при двустороннем распределении\n",
    "min_sample = (1.960 * 150 / 50) ** 2\n",
    "min_sample"
   ]
  },
  {
   "cell_type": "markdown",
   "id": "6c663d5c",
   "metadata": {},
   "source": [
    "4.  Представьте, что вы хотите разоблачить \"волшебника\", который считает, что умеет предсказывать погоду на завтра. Отвечая просто: дождь или солнце. Вы пронаблюдали за ответами \"волшебника\" в течении какого периода времени и получили такие результаты (см.ниже). Можно ли сказать, что маг действительно умеет предсказывать погоду, \n",
    "если уровнь значимости принять за 0.05 ?"
   ]
  },
  {
   "cell_type": "code",
   "execution_count": 6,
   "id": "861c28f2",
   "metadata": {},
   "outputs": [
    {
     "data": {
      "text/html": [
       "<div>\n",
       "<style scoped>\n",
       "    .dataframe tbody tr th:only-of-type {\n",
       "        vertical-align: middle;\n",
       "    }\n",
       "\n",
       "    .dataframe tbody tr th {\n",
       "        vertical-align: top;\n",
       "    }\n",
       "\n",
       "    .dataframe thead th {\n",
       "        text-align: right;\n",
       "    }\n",
       "</style>\n",
       "<table border=\"1\" class=\"dataframe\">\n",
       "  <thead>\n",
       "    <tr style=\"text-align: right;\">\n",
       "      <th></th>\n",
       "      <th>Ответ волшебника</th>\n",
       "      <th>Реальность</th>\n",
       "    </tr>\n",
       "  </thead>\n",
       "  <tbody>\n",
       "    <tr>\n",
       "      <th>Дождь</th>\n",
       "      <td>25</td>\n",
       "      <td>36</td>\n",
       "    </tr>\n",
       "    <tr>\n",
       "      <th>Солнце</th>\n",
       "      <td>15</td>\n",
       "      <td>44</td>\n",
       "    </tr>\n",
       "  </tbody>\n",
       "</table>\n",
       "</div>"
      ],
      "text/plain": [
       "        Ответ волшебника  Реальность\n",
       "Дождь                 25          36\n",
       "Солнце                15          44"
      ]
     },
     "execution_count": 6,
     "metadata": {},
     "output_type": "execute_result"
    }
   ],
   "source": [
    "observations = pd.DataFrame([[25,36],[15,44]],\n",
    "                            index=['Дождь','Солнце'],\n",
    "                            columns=['Ответ волшебника','Реальность'])\n",
    "observations"
   ]
  },
  {
   "cell_type": "code",
   "execution_count": 7,
   "id": "877d96ff",
   "metadata": {},
   "outputs": [
    {
     "data": {
      "text/plain": [
       "0.08323639416753109"
      ]
     },
     "execution_count": 7,
     "metadata": {},
     "output_type": "execute_result"
    }
   ],
   "source": [
    "import scipy as sp\n",
    "oddsratio, pvalue = sp.stats.fisher_exact(observations)\n",
    "pvalue"
   ]
  },
  {
   "cell_type": "markdown",
   "id": "27093865",
   "metadata": {},
   "source": [
    "5. Используя функцию mean_confidence_interval(data, confidence), постройте доверительный интервал с уровнем доверия 90% для выборки: data = [1,5,8,9,6,7,5,6,7,8,5,6,7,0,9,8,4,6,7,9,8,6,5,7,8,9,6,7,5,8,6,7,9,5]\n"
   ]
  },
  {
   "cell_type": "code",
   "execution_count": 8,
   "id": "7e36dfe8",
   "metadata": {},
   "outputs": [],
   "source": [
    "def mean_confidence_interval(data, confidence=0.95):\n",
    "    n = len(data)\n",
    "    m, se = np.mean(data), scipy.stats.sem(data)\n",
    "    h = se * scipy.stats.t.ppf((1 + confidence)/2, n)\n",
    "    return m-h,m, m+h#,h"
   ]
  },
  {
   "cell_type": "code",
   "execution_count": 9,
   "id": "db7836ff",
   "metadata": {},
   "outputs": [
    {
     "data": {
      "text/plain": [
       "(6.074074746111319, 6.628571428571429, 7.183068111031539)"
      ]
     },
     "execution_count": 9,
     "metadata": {},
     "output_type": "execute_result"
    }
   ],
   "source": [
    "data = [4,5,8,9,6,7,5,6,7,8,5,6,7,0,9,8,4,6,7,9,8,6,5,7,8,9,6,7,5,8,6,7,9,5,10]\n",
    "\n",
    "mean_confidence_interval(data, confidence=0.9)"
   ]
  },
  {
   "cell_type": "markdown",
   "id": "b82dd754",
   "metadata": {},
   "source": [
    "6. Принадлежит ли выборка data_1 и data_2 одному множеству? Оцените это с помощью известных вам тестов проверки гипотез."
   ]
  },
  {
   "cell_type": "code",
   "execution_count": 18,
   "id": "42cc6d59",
   "metadata": {},
   "outputs": [
    {
     "data": {
      "text/plain": [
       "Ttest_indResult(statistic=7.35744682757447, pvalue=2.1159475572725764e-11)"
      ]
     },
     "execution_count": 18,
     "metadata": {},
     "output_type": "execute_result"
    }
   ],
   "source": [
    "data_1 = [4,5,8,9,6,7,5,6,7,8,5,6,7,0,9,8,4,6,7,9,8,6,5,7,8,9,6,7,5,8,6,7,9,5,10]\n",
    "data_2 = [8,5,6,7,0,1,8,4,6,7,0,2,6,5,7,5,3,5,3,5,3,5,5,8,7,6,4,5,3,5,4,6,4,5,3,2,6,4,2,6,1,0,4,3,5,4,3,4,5,4,3,4,5,4,3,4,5,3,4,4,1,2,4,3,1,2,4,3,2,1,5,3,4,6,4,5,3,2,4,5,6,4,3,1,3,5,3,4,4,4,2,5,3]\n",
    "\n",
    "stats.ttest_ind(data_1 ,data_2)"
   ]
  },
  {
   "cell_type": "markdown",
   "id": "24539fb3",
   "metadata": {},
   "source": [
    "Так как pvalue < 0.05, можно сказать, что выборки data_1 и data_2 принадлежат одному множеству."
   ]
  },
  {
   "cell_type": "markdown",
   "id": "8b258b47",
   "metadata": {},
   "source": [
    "7. На примере датасета про жилье в New York City, мы сталкивались с примером, когда переменная имеет не совсем нормальное распределение. \n",
    "\n",
    "Предположим, Вы сформировали две гипотезы:\n",
    "Нулевая гипотеза - распределение нормальное, \n",
    "Альтернативная гипотеза - распределение не нормальное.\n",
    "\n",
    "\n",
    "Допустим, вы применили какой-то тест (сейчас неважно какой), который показал уровень значимости (p-value) = 0.03.\n",
    "Каковы будут ваши выводы? Будем считать что у нас нормальное распределение или все-таки нет? Вопрос без подвоха)"
   ]
  },
  {
   "cell_type": "markdown",
   "id": "3e059595",
   "metadata": {},
   "source": [
    "Ответ:\n",
    "\n",
    "Будем считать что у нас нормальное распределение, так как p-value = 0.03 < 0.05"
   ]
  },
  {
   "cell_type": "markdown",
   "id": "df72f175",
   "metadata": {},
   "source": [
    "8. Первая выборка — это пациенты, которых лечили препаратом А. \n",
    "Вторая выборка — пациенты, которых лечили препаратом Б. Значения в выборках — это некоторая характеристика эффективности лечения (уровень метаболита в крови, температура через три дня после начала лечения, срок выздоровления, число койко-дней, и т.д.) \n",
    "\n",
    "а) Требуется выяснить, имеется ли значимое различие эффективности препаратов А и Б, или различия являются чисто случайными и объясняются «естественной» дисперсией выбранной характеристики?  (уровень значимости принять за 5% или 0.05)\n",
    "\n",
    "b) При каком минимальном P-values различия были бы уже значимы? "
   ]
  },
  {
   "cell_type": "code",
   "execution_count": 11,
   "id": "581731b1",
   "metadata": {},
   "outputs": [
    {
     "data": {
      "text/plain": [
       "Ttest_indResult(statistic=0.33196234898293125, pvalue=0.7400341626811637)"
      ]
     },
     "execution_count": 11,
     "metadata": {},
     "output_type": "execute_result"
    }
   ],
   "source": [
    "np.random.seed(11)\n",
    "A = stats.norm.rvs(scale=50,loc=10,size=300)\n",
    "B = A+stats.norm.rvs(scale=10,loc=-1.25,size=300)\n",
    "\n",
    "stats.ttest_ind(a=A,b=B,equal_var=False)"
   ]
  },
  {
   "cell_type": "markdown",
   "id": "2f95aa73",
   "metadata": {},
   "source": [
    "Так как pvalue = 0.74 > уровня значимости 0.05, мы не можем сказать, что различия не являются чисто случайными."
   ]
  },
  {
   "cell_type": "markdown",
   "id": "53dca794",
   "metadata": {},
   "source": [
    "При pvalue = 0.05 различия были бы уже значимы."
   ]
  }
 ],
 "metadata": {
  "kernelspec": {
   "display_name": "Python 3",
   "language": "python",
   "name": "python3"
  },
  "language_info": {
   "codemirror_mode": {
    "name": "ipython",
    "version": 3
   },
   "file_extension": ".py",
   "mimetype": "text/x-python",
   "name": "python",
   "nbconvert_exporter": "python",
   "pygments_lexer": "ipython3",
   "version": "3.8.5"
  }
 },
 "nbformat": 4,
 "nbformat_minor": 5
}
