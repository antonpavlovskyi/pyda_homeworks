{
 "cells": [
  {
   "cell_type": "markdown",
   "id": "employed-customer",
   "metadata": {},
   "source": [
    "# Домашнее задание к лекции \"Введение в типы данных и циклы. Часть 1\""
   ]
  },
  {
   "cell_type": "markdown",
   "id": "absolute-conflict",
   "metadata": {},
   "source": [
    "## Задание 1"
   ]
  },
  {
   "cell_type": "code",
   "execution_count": 15,
   "id": "rolled-packaging",
   "metadata": {},
   "outputs": [
    {
     "name": "stdout",
     "output_type": "stream",
     "text": [
      "es\n"
     ]
    }
   ],
   "source": [
    "word = \"test\"\n",
    "if len(word) % 2 != 0:\n",
    "    midle_letter_pos = len(word) // 2\n",
    "    print(word[midle_letter_pos])\n",
    "else:\n",
    "    second_midle_letter_pos = len(word) // 2\n",
    "    first_midle_letter_pos = (len(word) // 2) - 1\n",
    "    two_midle_letters = word[first_midle_letter_pos] + word[second_midle_letter_pos]\n",
    "    print(two_midle_letters)"
   ]
  },
  {
   "cell_type": "markdown",
   "id": "biological-value",
   "metadata": {},
   "source": [
    "## Задание 2"
   ]
  },
  {
   "cell_type": "code",
   "execution_count": 24,
   "id": "crude-advice",
   "metadata": {},
   "outputs": [
    {
     "name": "stdin",
     "output_type": "stream",
     "text": [
      "Введите число: 4\n",
      "Введите число: 6\n",
      "Введите число: 7\n",
      "Введите число: 2\n",
      "Введите число: 0\n"
     ]
    },
    {
     "name": "stdout",
     "output_type": "stream",
     "text": [
      "19\n"
     ]
    }
   ],
   "source": [
    "num = int(input(\"Введите число:\"))\n",
    "sum_total = 0\n",
    "while num != 0:\n",
    "    sum_total += num\n",
    "    num = int(input(\"Введите число:\"))\n",
    "print(sum_total)"
   ]
  },
  {
   "cell_type": "markdown",
   "id": "instant-porcelain",
   "metadata": {},
   "source": [
    "## Задание 3"
   ]
  },
  {
   "cell_type": "code",
   "execution_count": 7,
   "id": "expressed-kentucky",
   "metadata": {},
   "outputs": [
    {
     "name": "stdout",
     "output_type": "stream",
     "text": [
      "Идеальные пары:\n",
      "Alex и Emma\n",
      "Arthur и Kate\n",
      "John и Kira\n",
      "Peter и Liza\n",
      "Richard и Trisha\n"
     ]
    }
   ],
   "source": [
    "boys = [\"Peter\", \"Alex\", \"John\", \"Arthur\", \"Richard\"]\n",
    "girls = [\"Kate\", \"Liza\", \"Kira\", \"Emma\", \"Trisha\"]\n",
    "boys.sort()\n",
    "girls.sort()\n",
    "pairs = list(zip(boys, girls))\n",
    "if len(boys) == len(girls):\n",
    "    print(\"Идеальные пары:\")\n",
    "    for pair in pairs:\n",
    "        print(f\"{pair[0]} и {pair[1]}\")\n",
    "else:\n",
    "    print(\"Внимание, кто-то может остаться без пары!\")"
   ]
  },
  {
   "cell_type": "markdown",
   "id": "certain-serial",
   "metadata": {},
   "source": [
    "## Задание 4"
   ]
  },
  {
   "cell_type": "code",
   "execution_count": 16,
   "id": "varied-guide",
   "metadata": {},
   "outputs": [
    {
     "name": "stdout",
     "output_type": "stream",
     "text": [
      "Средняя температура в странах:\n",
      "Thailand  -  23.9\n",
      "Germany  -  13.8\n",
      "Russia  -  3.7\n",
      "Poland  -  12.0\n"
     ]
    }
   ],
   "source": [
    "countries_temperature = [\n",
    "    [\"Thailand\", [75.2, 77, 78.8, 73.4, 68, 75.2, 77]],\n",
    "    [\"Germany\", [57.2, 55.4, 59, 59, 53.6]],\n",
    "    [\"Russia\", [35.6, 37.4, 39.2, 41, 42.8, 39.2, 35.6]],\n",
    "    [\"Poland\", [50, 50, 53.6, 57.2, 55.4, 55.4]],\n",
    "]\n",
    "print(\"Средняя температура в странах:\")\n",
    "for temp in countries_temperature:\n",
    "    avarage_temp = sum(temp[1]) / len(temp[1])\n",
    "    avarage_temp_celsius = round((avarage_temp - 32) * (5 / 9), 1)\n",
    "    print(f\"{temp[0]}  -  {avarage_temp_celsius}\")"
   ]
  },
  {
   "cell_type": "markdown",
   "id": "finnish-luxembourg",
   "metadata": {},
   "source": [
    "## Задание 5 (необязательное)"
   ]
  },
  {
   "cell_type": "code",
   "execution_count": 29,
   "id": "hourly-wiring",
   "metadata": {},
   "outputs": [
    {
     "name": "stdout",
     "output_type": "stream",
     "text": [
      "Среднее количество просмотров на уникального пользователя: 23.25\n"
     ]
    }
   ],
   "source": [
    "stream = [\n",
    "    \"2018-01-01,user1,3\",\n",
    "    \"2018-01-07,user1,4\",\n",
    "    \"2018-03-29,user1,1\",\n",
    "    \"2018-04-04,user1,13\",\n",
    "    \"2018-01-05,user2,7\",\n",
    "    \"2018-06-14,user3,4\",\n",
    "    \"2018-07-02,user3,10\",\n",
    "    \"2018-03-21,user4,19\",\n",
    "    \"2018-03-22,user4,4\",\n",
    "    \"2018-04-22,user4,8\",\n",
    "    \"2018-05-03,user4,9\",\n",
    "    \"2018-05-11,user4,11\",\n",
    "]\n",
    "users = []\n",
    "views = []\n",
    "for value in stream:\n",
    "    value = value.split(\",\")\n",
    "    users.append(value[1])\n",
    "    views.append(int(value[2]))\n",
    "unique_users = len(set(users))\n",
    "total_views = sum(views)\n",
    "avarage_per_unique_user = round((total_views / unique_users), 2)\n",
    "print(\n",
    "    \"Среднее количество просмотров на уникального пользователя:\",\n",
    "    avarage_per_unique_user,\n",
    ")"
   ]
  },
  {
   "cell_type": "markdown",
   "id": "cutting-austria",
   "metadata": {},
   "source": [
    "## Задание 6 (необязательное)"
   ]
  },
  {
   "cell_type": "code",
   "execution_count": 6,
   "id": "controlled-michigan",
   "metadata": {},
   "outputs": [
    {
     "name": "stdin",
     "output_type": "stream",
     "text": [
      "Введите числа: 4 8 0 3 4 2 0 3\n"
     ]
    },
    {
     "name": "stdout",
     "output_type": "stream",
     "text": [
      "0 3 4\n"
     ]
    }
   ],
   "source": [
    "nums = input(\"Введите числа:\")\n",
    "nums = nums.split(\" \")\n",
    "duplicates = []\n",
    "for num in nums:\n",
    "    if nums.count(num) > 1 and num not in duplicates:\n",
    "        duplicates.append(num)\n",
    "duplicates.sort()\n",
    "print(\" \".join(duplicates))"
   ]
  },
  {
   "cell_type": "code",
   "execution_count": null,
   "id": "aggressive-amsterdam",
   "metadata": {},
   "outputs": [],
   "source": []
  }
 ],
 "metadata": {
  "kernelspec": {
   "display_name": "Python 3",
   "language": "python",
   "name": "python3"
  },
  "language_info": {
   "codemirror_mode": {
    "name": "ipython",
    "version": 3
   },
   "file_extension": ".py",
   "mimetype": "text/x-python",
   "name": "python",
   "nbconvert_exporter": "python",
   "pygments_lexer": "ipython3",
   "version": "3.8.5"
  }
 },
 "nbformat": 4,
 "nbformat_minor": 5
}
