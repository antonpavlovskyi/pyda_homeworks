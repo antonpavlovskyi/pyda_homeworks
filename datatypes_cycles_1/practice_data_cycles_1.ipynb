{
 "cells": [
  {
   "cell_type": "code",
   "execution_count": 5,
   "id": "ethical-prime",
   "metadata": {},
   "outputs": [
    {
     "name": "stdout",
     "output_type": "stream",
     "text": [
      "None\n"
     ]
    }
   ],
   "source": [
    "list1 = [1, 2, 3]\n",
    "list2 = list1.sort()\n",
    "print(list2)"
   ]
  },
  {
   "cell_type": "code",
   "execution_count": 8,
   "id": "random-wales",
   "metadata": {},
   "outputs": [
    {
     "data": {
      "text/plain": [
       "'an'"
      ]
     },
     "execution_count": 8,
     "metadata": {},
     "output_type": "execute_result"
    }
   ],
   "source": [
    "str1 = 'an'\n",
    "str2 = str1\n",
    "str2 = str2 + 'a'\n",
    "str1"
   ]
  },
  {
   "cell_type": "code",
   "execution_count": 6,
   "id": "alpha-bradford",
   "metadata": {},
   "outputs": [],
   "source": [
    "import antigravity"
   ]
  },
  {
   "cell_type": "code",
   "execution_count": 9,
   "id": "reported-illinois",
   "metadata": {},
   "outputs": [],
   "source": [
    "text = 'Python — высокоуровневый язык программирования, ориентированный на повышение производительности разработчика и читаемости кода.'"
   ]
  },
  {
   "cell_type": "code",
   "execution_count": 15,
   "id": "sustainable-reunion",
   "metadata": {},
   "outputs": [
    {
     "name": "stdout",
     "output_type": "stream",
     "text": [
      "['Python', 'высокоуровневый', 'язык', 'программирования,', 'ориентированный', 'повышение', 'производительности', 'разработчика', 'читаемости', 'кода']\n"
     ]
    }
   ],
   "source": [
    "text = 'Python — высокоуровневый язык программирования, ориентированный на повышение производительности разработчика и читаемости кода.'\n",
    "text = text.split()\n",
    "n = 4\n",
    "new_text = []\n",
    "for word in text:\n",
    "    word = word.replace('.', '')\n",
    "    if len(word) >= n:\n",
    "        new_text.append(word)\n",
    "print(new_text)"
   ]
  },
  {
   "cell_type": "code",
   "execution_count": 21,
   "id": "focal-renaissance",
   "metadata": {},
   "outputs": [
    {
     "name": "stdout",
     "output_type": "stream",
     "text": [
      "1\n",
      "22\n",
      "333\n",
      "4444\n",
      "55555\n",
      "666666\n",
      "7777777\n",
      "88888888\n",
      "999999999\n"
     ]
    }
   ],
   "source": [
    "for i in range(1, 10):\n",
    "    j = str(i)\n",
    "    print(j*i)"
   ]
  },
  {
   "cell_type": "code",
   "execution_count": 22,
   "id": "alike-invite",
   "metadata": {},
   "outputs": [
    {
     "name": "stdout",
     "output_type": "stream",
     "text": [
      "\n",
      "1\n",
      "22\n",
      "333\n",
      "4444\n",
      "55555\n",
      "666666\n",
      "7777777\n",
      "88888888\n",
      "999999999\n"
     ]
    }
   ],
   "source": [
    "for i in range(10):\n",
    "    for j in range(i):\n",
    "        print(i, end='')\n",
    "    print()"
   ]
  },
  {
   "cell_type": "code",
   "execution_count": 30,
   "id": "revolutionary-planet",
   "metadata": {},
   "outputs": [
    {
     "data": {
      "text/plain": [
       "103"
      ]
     },
     "execution_count": 30,
     "metadata": {},
     "output_type": "execute_result"
    }
   ],
   "source": [
    "data = [[13, 25, 23, 34],\n",
    "        [45, 32, 44, 47],\n",
    "        [12, 33, 23, 95],\n",
    "        [13, 53, 34, 35]]\n",
    "sum1 = 0\n",
    "for i in range(len(data)):\n",
    "    sum1 += data[i][i]\n",
    "sum1"
   ]
  },
  {
   "cell_type": "code",
   "execution_count": 27,
   "id": "aerial-slovak",
   "metadata": {},
   "outputs": [
    {
     "data": {
      "text/plain": [
       "103"
      ]
     },
     "execution_count": 27,
     "metadata": {},
     "output_type": "execute_result"
    }
   ],
   "source": [
    "result = 0\n",
    "for index in range(len(data)):\n",
    "\tresult  += data[index][index]\n",
    "result"
   ]
  },
  {
   "cell_type": "code",
   "execution_count": 37,
   "id": "interstate-closing",
   "metadata": {},
   "outputs": [
    {
     "name": "stdout",
     "output_type": "stream",
     "text": [
      "IT :\n",
      "Гейтс\n",
      "Джобс\n",
      "Возняк\n",
      "Физика :\n",
      "Гейтс\n",
      "Джобс\n",
      "Возняк\n",
      "Математика :\n",
      "Гейтс\n",
      "Джобс\n",
      "Возняк\n"
     ]
    }
   ],
   "source": [
    "professions = ['IT', 'Физика', 'Математика']\n",
    "persons = [['Гейтс', 'Джобс', 'Возняк'], ['Эйнштейн', 'Фейнман'], ['Эвклид', 'Ньютон']]\n",
    "for prof in professions:\n",
    "    print(prof, ':')\n",
    "    for person in persons:\n",
    "        print('\\n'.join(person))\n",
    "        break"
   ]
  },
  {
   "cell_type": "code",
   "execution_count": null,
   "id": "independent-binding",
   "metadata": {},
   "outputs": [],
   "source": []
  }
 ],
 "metadata": {
  "kernelspec": {
   "display_name": "Python 3",
   "language": "python",
   "name": "python3"
  },
  "language_info": {
   "codemirror_mode": {
    "name": "ipython",
    "version": 3
   },
   "file_extension": ".py",
   "mimetype": "text/x-python",
   "name": "python",
   "nbconvert_exporter": "python",
   "pygments_lexer": "ipython3",
   "version": "3.8.5"
  }
 },
 "nbformat": 4,
 "nbformat_minor": 5
}
