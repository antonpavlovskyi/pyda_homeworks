{
 "cells": [
  {
   "cell_type": "markdown",
   "id": "stopped-cooler",
   "metadata": {},
   "source": [
    "Домашнее задание\n",
    "\n",
    "Задание 1\n",
    "Создайте numpy array с элементами от числа N до 0 (например, для N = 10 это будет array([9, 8, 7, 6, 5, 4, 3, 2, 1, 0])).\n",
    "\n",
    "Задание 2\n",
    "Создайте диагональную матрицу с элементами от N до 0. Посчитайте сумму ее значений на диагонали.\n",
    "\n",
    "Задание 3\n",
    "Решите систему уравнений:\n",
    "4x + 2y + z = 4\n",
    "x + 3y = 12\n",
    "5y + 4z = -3\n",
    "\n",
    "Задание 4\n",
    "В материалах занятия раздел “Задача 4 домашнего задания”"
   ]
  },
  {
   "cell_type": "markdown",
   "id": "involved-arrow",
   "metadata": {},
   "source": [
    "# Домашнее задание"
   ]
  },
  {
   "cell_type": "markdown",
   "id": "pharmaceutical-buyer",
   "metadata": {},
   "source": [
    "## Задание 1. Создайте numpy array с элементами от числа N до 0 (например, для N = 10 это будет array([9, 8, 7, 6, 5, 4, 3, 2, 1, 0]))."
   ]
  },
  {
   "cell_type": "code",
   "execution_count": 4,
   "id": "awful-ocean",
   "metadata": {},
   "outputs": [],
   "source": [
    "import numpy as np\n",
    "from numpy import linalg"
   ]
  },
  {
   "cell_type": "code",
   "execution_count": 5,
   "id": "cross-watson",
   "metadata": {},
   "outputs": [
    {
     "data": {
      "text/plain": [
       "array([9, 8, 7, 6, 5, 4, 3, 2, 1])"
      ]
     },
     "execution_count": 5,
     "metadata": {},
     "output_type": "execute_result"
    }
   ],
   "source": [
    "n = 10\n",
    "a = np.arange(n-1,0,-1)\n",
    "a"
   ]
  },
  {
   "cell_type": "markdown",
   "id": "monetary-doctrine",
   "metadata": {},
   "source": [
    "## Задание 2. Создайте диагональную матрицу с элементами от N до 0. Посчитайте сумму ее значений на диагонали."
   ]
  },
  {
   "cell_type": "code",
   "execution_count": 6,
   "id": "incorporate-plumbing",
   "metadata": {},
   "outputs": [
    {
     "data": {
      "text/plain": [
       "45"
      ]
     },
     "execution_count": 6,
     "metadata": {},
     "output_type": "execute_result"
    }
   ],
   "source": [
    "b = np.zeros((n-1,n-1), int)\n",
    "np.fill_diagonal(b, (a))\n",
    "np.trace(b)"
   ]
  },
  {
   "cell_type": "markdown",
   "id": "contrary-suite",
   "metadata": {},
   "source": [
    "## Задание 3. Решите систему уравнений:\n",
    "4x + 2y + z = 4 \\\n",
    "x + 3y = 12 \\\n",
    "5y + 4z = -3"
   ]
  },
  {
   "cell_type": "code",
   "execution_count": 7,
   "id": "complicated-burning",
   "metadata": {},
   "outputs": [
    {
     "data": {
      "text/plain": [
       "array([ 0.46666667,  3.84444444, -5.55555556])"
      ]
     },
     "execution_count": 7,
     "metadata": {},
     "output_type": "execute_result"
    }
   ],
   "source": [
    "left_side = np.array( [ [4, 2, 1], [1, 3, 0], [0, 5, 4] ] )\n",
    "right_side = np.array( [4, 12, -3] )\n",
    "linalg.solve(left_side, right_side)"
   ]
  },
  {
   "cell_type": "markdown",
   "id": "weighted-england",
   "metadata": {},
   "source": [
    "## Задача 4 домашнего задания\n",
    "Имеется матрица покупок в интернет-магазине. Столбец А - ID пользователя. Остальные столбцы - количество покупок категорий товаров этим пользователем:"
   ]
  },
  {
   "cell_type": "code",
   "execution_count": 8,
   "id": "personal-cemetery",
   "metadata": {},
   "outputs": [],
   "source": [
    "users_stats = np.array(\n",
    "    [\n",
    "        [2, 1, 0, 0, 0, 0],\n",
    "        [1, 1, 2, 1, 0, 0],\n",
    "        [2, 0, 1, 0, 0, 0],\n",
    "        [1, 1, 2, 1, 0, 1],\n",
    "        [0, 0, 1, 2, 0, 0],\n",
    "        [0, 0, 0, 0, 0, 5],\n",
    "        [1, 0, 0, 0, 0, 0],\n",
    "        [0, 1, 1, 0, 0, 0],\n",
    "        [0, 0, 0, 1, 1, 3],\n",
    "        [1, 0, 0, 2, 1, 4]\n",
    "    ], \n",
    "    np.int32\n",
    ")"
   ]
  },
  {
   "cell_type": "markdown",
   "id": "assisted-cookie",
   "metadata": {},
   "source": [
    "На сайт заходит очередной посетитель, о покупках которого известно следующее:"
   ]
  },
  {
   "cell_type": "code",
   "execution_count": 9,
   "id": "limiting-composite",
   "metadata": {},
   "outputs": [],
   "source": [
    "next_user_stats = np.array([0, 1, 2, 0, 0, 0])"
   ]
  },
  {
   "cell_type": "markdown",
   "id": "featured-collins",
   "metadata": {},
   "source": [
    "Найдите самого похожего пользователя. Т. е. посчитайте косинусное сходство между этим пользователем и всеми пользователями из массива user_stats"
   ]
  },
  {
   "cell_type": "code",
   "execution_count": 10,
   "id": "interior-distributor",
   "metadata": {},
   "outputs": [
    {
     "data": {
      "text/plain": [
       "0.9486832980505138"
      ]
     },
     "execution_count": 10,
     "metadata": {},
     "output_type": "execute_result"
    }
   ],
   "source": [
    "def cosine(new_customer, existing_customers):\n",
    "    new_customer_length = np.linalg.norm(new_customer)\n",
    "    cos_list = []\n",
    "    for customer in existing_customers:\n",
    "        customer_length = np.linalg.norm(customer)\n",
    "        cos = np.dot( new_customer, customer ) / ( new_customer_length * customer_length )\n",
    "        cos_list.append(cos)\n",
    "    return max(cos_list)\n",
    "cosine(next_user_stats, users_stats)"
   ]
  }
 ],
 "metadata": {
  "kernelspec": {
   "display_name": "Python 3",
   "language": "python",
   "name": "python3"
  },
  "language_info": {
   "codemirror_mode": {
    "name": "ipython",
    "version": 3
   },
   "file_extension": ".py",
   "mimetype": "text/x-python",
   "name": "python",
   "nbconvert_exporter": "python",
   "pygments_lexer": "ipython3",
   "version": "3.8.5"
  }
 },
 "nbformat": 4,
 "nbformat_minor": 5
}
