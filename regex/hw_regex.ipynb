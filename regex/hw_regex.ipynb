{
 "cells": [
  {
   "cell_type": "markdown",
   "id": "agricultural-acting",
   "metadata": {},
   "source": [
    "# Домашнее задание к лекции \"Регулярные выражения\""
   ]
  },
  {
   "cell_type": "code",
   "execution_count": 3,
   "id": "ancient-harmony",
   "metadata": {},
   "outputs": [],
   "source": [
    "import re"
   ]
  },
  {
   "cell_type": "markdown",
   "id": "floppy-protocol",
   "metadata": {
    "tags": []
   },
   "source": [
    "## Задание 1"
   ]
  },
  {
   "cell_type": "code",
   "execution_count": 4,
   "id": "superb-tribune",
   "metadata": {},
   "outputs": [
    {
     "name": "stdout",
     "output_type": "stream",
     "text": [
      "Номер А222BC96 валиден. Регион: 96\n"
     ]
    }
   ],
   "source": [
    "def transp_num(car_id):\n",
    "    rule = r'[A-ZАВЕКМНОРСТXУ]\\d{3}[A-ZАВЕКМНОРСТXУ]{2}\\d{2,3}'\n",
    "    region = re.search(r'(?<=\\D{2})\\d+', car_id).group()\n",
    "    if re.findall(rule, car_id):\n",
    "        return f'Номер {car_id} валиден. Регион: {region}'\n",
    "    return 'Номер не валиден'\n",
    "car_id = 'А222BC96'\n",
    "print(transp_num(car_id))\n"
   ]
  },
  {
   "cell_type": "code",
   "execution_count": 4,
   "id": "developing-topic",
   "metadata": {},
   "outputs": [
    {
     "name": "stdin",
     "output_type": "stream",
     "text": [
      "Введите номер:  1234\n"
     ]
    },
    {
     "name": "stdout",
     "output_type": "stream",
     "text": [
      "Номер не валиден\n"
     ]
    }
   ],
   "source": [
    "# Решение от преподавателя\n",
    "car_id = input('Введите номер: ')\n",
    "\n",
    "def check(carid):\n",
    "    pattern = r'([АВЕКМНОРСТУХ]\\d{3}[АВЕКМНОРСТУХ]{2})(\\d{2,3})'\n",
    "    result = re.match(pattern, carid)\n",
    "    if result:\n",
    "        print(f'Номер {result.group(1)} валиден. Регион: {result.group(2)}')\n",
    "    else:\n",
    "        print('Номер не валиден')\n",
    "\n",
    "check(car_id)"
   ]
  },
  {
   "cell_type": "markdown",
   "id": "unlike-acting",
   "metadata": {
    "heading_collapsed": "true",
    "tags": []
   },
   "source": [
    "## Задание 2"
   ]
  },
  {
   "cell_type": "code",
   "execution_count": 5,
   "id": "after-pressure",
   "metadata": {},
   "outputs": [
    {
     "name": "stdout",
     "output_type": "stream",
     "text": [
      "Напишите функцию, которая будет удалять все последовательные повторы слов из заданной строки при помощи регулярных выражений.\n"
     ]
    }
   ],
   "source": [
    "def duplicate_del(some_string):\n",
    "    rule = r'\\b(\\w+)(?:\\s+\\1\\b)+'\n",
    "    return re.sub(rule, r'\\1', some_string)\n",
    "some_string = 'Напишите функцию функцию, которая будет будет будет будет удалять все все все все последовательные повторы слов из из из из заданной строки строки при помощи регулярных выражений.'\n",
    "print(duplicate_del(some_string))\n",
    "# re.findall(r'\\b(\\w+)\\s+\\1\\b', some_string)\n",
    "# re.findall(r'\\b(\\w+)\\b(?=.*\\b\\1)', some_string)\n",
    "# re.findall(r'\\b(\\w+)(?=\\s+\\1\\b)+', some_string)\n"
   ]
  },
  {
   "cell_type": "markdown",
   "id": "imposed-prairie",
   "metadata": {
    "tags": []
   },
   "source": [
    "## Задание 3"
   ]
  },
  {
   "cell_type": "code",
   "execution_count": 11,
   "id": "bulgarian-mountain",
   "metadata": {},
   "outputs": [
    {
     "data": {
      "text/plain": [
       "'NFC'"
      ]
     },
     "execution_count": 11,
     "metadata": {},
     "output_type": "execute_result"
    }
   ],
   "source": [
    "def acronym(some_words):\n",
    "    rule = r'\\b\\w'\n",
    "    return ''.join(re.findall(rule, some_words)).upper()\n",
    "some_words = 'Near Field Communication'\n",
    "acronym(some_words)"
   ]
  },
  {
   "cell_type": "code",
   "execution_count": null,
   "id": "weighted-acoustic",
   "metadata": {},
   "outputs": [],
   "source": [
    "# Решение от преподавателя\n",
    "def acronym(word):\n",
    "    return re.sub(r\"(\\w)\\w+\\s?\", r\"\\1\", word).upper()"
   ]
  },
  {
   "cell_type": "markdown",
   "id": "informational-darkness",
   "metadata": {
    "heading_collapsed": "true",
    "tags": []
   },
   "source": [
    "## Задание 4"
   ]
  },
  {
   "cell_type": "code",
   "execution_count": 8,
   "id": "pretty-holiday",
   "metadata": {},
   "outputs": [
    {
     "name": "stdout",
     "output_type": "stream",
     "text": [
      "gmail.com: 2\n",
      "test.in: 1\n",
      "ya.ru: 2\n",
      "mail.ru: 1\n"
     ]
    }
   ],
   "source": [
    "emails = ['test@gmail.com', 'xyz@test.in', 'test@ya.ru', 'xyz@mail.ru', 'xyz@ya.ru', 'xyz@gmail.com']\n",
    "def domains(some_list):\n",
    "    domain_dict = {}\n",
    "    for email in some_list:\n",
    "        domain = re.findall(r'(?<=@)\\w+\\.\\w{2,3}', email)[0]\n",
    "        if domain in domain_dict:\n",
    "            domain_dict[domain] += 1\n",
    "        else:\n",
    "            domain_dict[domain] = 1\n",
    "    return domain_dict\n",
    "print('\\n'.join(f'{k}: {v}' for k, v in domains(emails).items()))"
   ]
  },
  {
   "cell_type": "markdown",
   "id": "posted-verification",
   "metadata": {
    "heading_collapsed": "true",
    "tags": []
   },
   "source": [
    "## Задание 5 (необязательное)"
   ]
  },
  {
   "cell_type": "code",
   "execution_count": 47,
   "id": "judicial-reconstruction",
   "metadata": {},
   "outputs": [
    {
     "name": "stdout",
     "output_type": "stream",
     "text": [
      "Слов на гласные буквы: 9\n",
      "Слов на согласные буквы: 21\n"
     ]
    }
   ],
   "source": [
    "some_text = 'Эталонной реализацией Python является интерпретатор CPython, поддерживающий большинство активно используемых платформ. Он распространяется под свободной лицензией Python Software Foundation License, позволяющей использовать его без ограничений в любых приложениях, включая проприетарные.'\n",
    "def words(text):\n",
    "    word_dict = {}\n",
    "    text = text.lower()\n",
    "    vowel_begging = re.findall(r'\\b[aeiouаоиеёэуюя]\\w+', text)\n",
    "    consonant_beggining = re.findall(r'\\b[^aeiouаоиеёэыуюя\\W]\\w*', text)\n",
    "    word_dict['Слов на гласные буквы'] = len(vowel_begging)\n",
    "    word_dict['Слов на согласные буквы'] = len(consonant_beggining)\n",
    "    return word_dict\n",
    "print('\\n'.join(f'{k}: {v}' for k, v in words(some_text).items()))"
   ]
  },
  {
   "cell_type": "markdown",
   "id": "burning-democracy",
   "metadata": {
    "tags": []
   },
   "source": [
    "## Задание 6 (необязательное)"
   ]
  },
  {
   "cell_type": "code",
   "execution_count": 64,
   "id": "inappropriate-decrease",
   "metadata": {},
   "outputs": [
    {
     "data": {
      "text/plain": [
       "'Результат: +7-955-555-55-55'"
      ]
     },
     "execution_count": 64,
     "metadata": {},
     "output_type": "execute_result"
    }
   ],
   "source": [
    "phone = '+7-955-555-55-55'\n",
    "def mobile_format(number):\n",
    "    rule = r'(\\+7|7|8)[( -](\\d{3})[) -](\\d{3})[ -](\\d{2})[ -](\\d{2})'\n",
    "    if re.findall(rule, number):\n",
    "        res = re.sub(rule, r'+7-\\2-\\3-\\4-\\5', number)\n",
    "        return f'Результат: {res}'\n",
    "    return 'Номер не валиден'\n",
    "mobile_format(phone)"
   ]
  },
  {
   "cell_type": "code",
   "execution_count": null,
   "id": "informed-smart",
   "metadata": {},
   "outputs": [],
   "source": [
    "def get_correct_phone_number(number):\n",
    "    pattern = r'\\+?[87]*\\s*\\(?(\\d{3})\\)?\\s*[+\\-]?(\\d{3})\\s*[+\\-]?(\\d{2})\\s*[+\\-]?\\s*(\\d{2})'\n",
    "    example = r'+7(\\1)-\\2-\\3-\\4'\n",
    "    return re.sub(pattern, example, number)"
   ]
  }
 ],
 "metadata": {
  "kernelspec": {
   "display_name": "Python 3",
   "language": "python",
   "name": "python3"
  },
  "language_info": {
   "codemirror_mode": {
    "name": "ipython",
    "version": 3
   },
   "file_extension": ".py",
   "mimetype": "text/x-python",
   "name": "python",
   "nbconvert_exporter": "python",
   "pygments_lexer": "ipython3",
   "version": "3.8.5"
  }
 },
 "nbformat": 4,
 "nbformat_minor": 5
}
