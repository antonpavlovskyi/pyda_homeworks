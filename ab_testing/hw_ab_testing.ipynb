{
 "cells": [
  {
   "cell_type": "markdown",
   "id": "e66df3c2",
   "metadata": {},
   "source": [
    "# Д/З Статистическая проверка гипотез для связанных выборок. A/B тесты."
   ]
  },
  {
   "cell_type": "code",
   "execution_count": 1,
   "id": "f67d293d",
   "metadata": {},
   "outputs": [],
   "source": [
    "import numpy as np\n",
    "import pandas as pd\n",
    "import scipy.stats as stats \n",
    "import matplotlib.pyplot as plt\n",
    "import seaborn as sns\n",
    "import matplotlib.pyplot as plt"
   ]
  },
  {
   "cell_type": "markdown",
   "id": "1121b797",
   "metadata": {},
   "source": [
    "<div class=\"alert alert-info\">\n",
    "<b>Задание № 1 (Обязательно)</b>\n",
    "Вам даны результаты проверки двух препаратов.\n",
    "    \n",
    "Требуется:\n",
    "- Оценить, есть ли различие в эффекте у этих пациентов?\n",
    "- Визуально подтвердить результат\n",
    "    \n",
    "`A` - результаты для группы людей получающих препарат А.\n",
    "\n",
    "`B` - результаты для другой группы людей, получающих препарат B.\n",
    "    \n",
    "</div>"
   ]
  },
  {
   "cell_type": "code",
   "execution_count": 2,
   "id": "3248f009",
   "metadata": {},
   "outputs": [
    {
     "data": {
      "text/plain": [
       "Ttest_indResult(statistic=-1.733800647210997, pvalue=0.08451003973499756)"
      ]
     },
     "execution_count": 2,
     "metadata": {},
     "output_type": "execute_result"
    }
   ],
   "source": [
    "import scipy.stats as stats\n",
    "np.random.seed(11)\n",
    "A = stats.norm.rvs(scale=30, loc=11, size=100)\n",
    "B = A + stats.norm.rvs(scale=54, loc=11, size=100)\n",
    "stats.ttest_ind(A, B)"
   ]
  },
  {
   "cell_type": "code",
   "execution_count": 3,
   "id": "52e09e66",
   "metadata": {},
   "outputs": [
    {
     "data": {
      "text/plain": [
       "(array([ 5.,  7., 13., 13., 21., 16., 11.,  8.,  3.,  3.]),\n",
       " array([-99.92486747, -73.18817253, -46.45147758, -19.71478263,\n",
       "          7.02191231,  33.75860726,  60.4953022 ,  87.23199715,\n",
       "        113.9686921 , 140.70538704, 167.44208199]),\n",
       " <BarContainer object of 10 artists>)"
      ]
     },
     "execution_count": 3,
     "metadata": {},
     "output_type": "execute_result"
    },
    {
     "data": {
      "image/png": "[encoded data removed]",
      "text/plain": [
       "<Figure size 432x288 with 1 Axes>"
      ]
     },
     "metadata": {
      "needs_background": "light"
     },
     "output_type": "display_data"
    }
   ],
   "source": [
    "plt.hist(A)\n",
    "plt.hist(B, alpha=0.5)"
   ]
  },
  {
   "cell_type": "markdown",
   "id": "392392af",
   "metadata": {},
   "source": [
    "Так как p-value = 0.084 > 0.05 мы не можем сказать есть ли различие в эффекте у этих пациентов."
   ]
  },
  {
   "cell_type": "markdown",
   "id": "1c6c46d9",
   "metadata": {},
   "source": [
    "<div class=\"alert alert-info\">\n",
    "<b>Задание № 2 (Обязательно)</b>\n",
    "Вам даны результаты проверки двух препаратов. \n",
    "    \n",
    "Требуется: \n",
    "- Оценить, есть ли различие в эффекте у этих пациентов?\n",
    "- Визуально подтвердить результат\n",
    "    \n",
    "`А` - группа людей без препарата.\n",
    "\n",
    "`B` - та же группа людей, но получающая препарат\n",
    "</div>"
   ]
  },
  {
   "cell_type": "code",
   "execution_count": 4,
   "id": "8de4600c",
   "metadata": {},
   "outputs": [],
   "source": [
    "np.random.seed(11)\n",
    "A = stats.norm.rvs(scale=30, loc=11, size=100)\n",
    "B = A + stats.norm.rvs(scale=54, loc=11, size=100)"
   ]
  },
  {
   "cell_type": "code",
   "execution_count": 5,
   "id": "b6563c6a",
   "metadata": {},
   "outputs": [],
   "source": [
    "from scipy.stats import wilcoxon  # Wilcoxon signed-rank test"
   ]
  },
  {
   "cell_type": "code",
   "execution_count": 6,
   "id": "58f7c527",
   "metadata": {},
   "outputs": [
    {
     "data": {
      "text/plain": [
       "0.04077572901549266"
      ]
     },
     "execution_count": 6,
     "metadata": {},
     "output_type": "execute_result"
    }
   ],
   "source": [
    "stat, p = wilcoxon(A, B)\n",
    "p"
   ]
  },
  {
   "cell_type": "code",
   "execution_count": 7,
   "id": "d7ab4609",
   "metadata": {},
   "outputs": [
    {
     "data": {
      "text/plain": [
       "(array([ 5.,  7., 13., 13., 21., 16., 11.,  8.,  3.,  3.]),\n",
       " array([-99.92486747, -73.18817253, -46.45147758, -19.71478263,\n",
       "          7.02191231,  33.75860726,  60.4953022 ,  87.23199715,\n",
       "        113.9686921 , 140.70538704, 167.44208199]),\n",
       " <BarContainer object of 10 artists>)"
      ]
     },
     "execution_count": 7,
     "metadata": {},
     "output_type": "execute_result"
    },
    {
     "data": {
      "image/png": "[encoded data removed]",
      "text/plain": [
       "<Figure size 432x288 with 1 Axes>"
      ]
     },
     "metadata": {
      "needs_background": "light"
     },
     "output_type": "display_data"
    }
   ],
   "source": [
    "plt.hist(A)\n",
    "plt.hist(B, alpha=0.5)"
   ]
  },
  {
   "cell_type": "markdown",
   "id": "cabf83a9",
   "metadata": {},
   "source": [
    "Так как p-value = 0.04 < 0.05 мы можем, что есть различие в эффекте у этих пациентов."
   ]
  },
  {
   "cell_type": "markdown",
   "id": "23996b78",
   "metadata": {},
   "source": [
    "<div class=\"alert alert-info\">\n",
    "<b>Задание № 3 (Обязательно)</b>\n",
    "Допустим вы решили устроить дачный эксперимент. Берем и поливаем одни огурцы водой, другие огурцы водой с удобнением, третью группу огурцов будем поливать минералкой. \n",
    "    \n",
    " - Используя дисперсионный анализ, сделайте выводы о распредлениях результатов. Есть ли эффект от удобрения по сравнению с минералкой? \n",
    " - Помимо результата статистического теста, продемонстрируйте отличия визуально с помощью `boxplot` или `hist`\n",
    "</div>"
   ]
  },
  {
   "cell_type": "code",
   "execution_count": 8,
   "id": "8e6553f3",
   "metadata": {},
   "outputs": [],
   "source": [
    "water = [1,2,3,4,2,4,2,4,5,2,3,4,2,1,3,4,3,2,5,1]\n",
    "nutri = [1,2,4,6,5,6,7,5,4,5,6,7,4,3,5,5,6,5,4,3,5]\n",
    "mineral =[2,1,1,3,2,4,2,4,5,4,3,2,3,2,3,1,3,4,5,1,4]"
   ]
  },
  {
   "cell_type": "code",
   "execution_count": 9,
   "id": "35ac6d2b",
   "metadata": {},
   "outputs": [],
   "source": [
    "from scipy.stats import f_oneway # импортирем функцию для дисперсионного анализа из библиотеки scipy пакета stats"
   ]
  },
  {
   "cell_type": "code",
   "execution_count": 10,
   "id": "2d88a7a9",
   "metadata": {},
   "outputs": [
    {
     "data": {
      "text/plain": [
       "2.9240047906326866e-05"
      ]
     },
     "execution_count": 10,
     "metadata": {},
     "output_type": "execute_result"
    }
   ],
   "source": [
    "F, p = f_oneway(water, nutri, mineral)  # дисперсионный анализ (ДА) ANOVA\n",
    "p"
   ]
  },
  {
   "cell_type": "code",
   "execution_count": 11,
   "id": "2fa91ae2",
   "metadata": {},
   "outputs": [
    {
     "data": {
      "image/png": "[encoded data removed]",
      "text/plain": [
       "<Figure size 432x288 with 1 Axes>"
      ]
     },
     "metadata": {
      "needs_background": "light"
     },
     "output_type": "display_data"
    }
   ],
   "source": [
    "df_mid = pd.DataFrame()\n",
    "df_mid['sizes'] = water + nutri + mineral\n",
    "df_mid['kinds'] = ['water']*len(water) + ['nutri']*len(nutri)+['mineral']*len(mineral)\n",
    "ax = sns.boxplot(x='kinds', y='sizes', data=df_mid, color='#99c2a2')"
   ]
  },
  {
   "cell_type": "markdown",
   "id": "f7314a86",
   "metadata": {},
   "source": [
    "Так как p-value = 0.000029 < 0.05 мы можем сказать, что есть различие между разными подходами по уходу за огурцами. Исходя из граффика метод nutri является самым эффективным."
   ]
  },
  {
   "cell_type": "markdown",
   "id": "9ffd192b",
   "metadata": {},
   "source": [
    "# Cookie Cats (Обязательно)"
   ]
  },
  {
   "cell_type": "markdown",
   "id": "09547bb3",
   "metadata": {},
   "source": [
    "<div class=\"alert alert-info\">\n",
    "<b>Задание: провести анализ данных и сделать выводы о лучшем месте для установки ворот. </b>\n",
    "</div>"
   ]
  },
  {
   "cell_type": "code",
   "execution_count": 12,
   "id": "ec3ec5b3",
   "metadata": {},
   "outputs": [
    {
     "data": {
      "text/html": [
       "<div>\n",
       "<style scoped>\n",
       "    .dataframe tbody tr th:only-of-type {\n",
       "        vertical-align: middle;\n",
       "    }\n",
       "\n",
       "    .dataframe tbody tr th {\n",
       "        vertical-align: top;\n",
       "    }\n",
       "\n",
       "    .dataframe thead th {\n",
       "        text-align: right;\n",
       "    }\n",
       "</style>\n",
       "<table border=\"1\" class=\"dataframe\">\n",
       "  <thead>\n",
       "    <tr style=\"text-align: right;\">\n",
       "      <th></th>\n",
       "      <th>userid</th>\n",
       "      <th>version</th>\n",
       "      <th>sum_gamerounds</th>\n",
       "      <th>retention_1</th>\n",
       "      <th>retention_7</th>\n",
       "    </tr>\n",
       "  </thead>\n",
       "  <tbody>\n",
       "    <tr>\n",
       "      <th>0</th>\n",
       "      <td>116</td>\n",
       "      <td>gate_30</td>\n",
       "      <td>3</td>\n",
       "      <td>False</td>\n",
       "      <td>False</td>\n",
       "    </tr>\n",
       "    <tr>\n",
       "      <th>1</th>\n",
       "      <td>337</td>\n",
       "      <td>gate_30</td>\n",
       "      <td>38</td>\n",
       "      <td>True</td>\n",
       "      <td>False</td>\n",
       "    </tr>\n",
       "    <tr>\n",
       "      <th>2</th>\n",
       "      <td>377</td>\n",
       "      <td>gate_40</td>\n",
       "      <td>165</td>\n",
       "      <td>True</td>\n",
       "      <td>False</td>\n",
       "    </tr>\n",
       "    <tr>\n",
       "      <th>3</th>\n",
       "      <td>483</td>\n",
       "      <td>gate_40</td>\n",
       "      <td>1</td>\n",
       "      <td>False</td>\n",
       "      <td>False</td>\n",
       "    </tr>\n",
       "    <tr>\n",
       "      <th>4</th>\n",
       "      <td>488</td>\n",
       "      <td>gate_40</td>\n",
       "      <td>179</td>\n",
       "      <td>True</td>\n",
       "      <td>True</td>\n",
       "    </tr>\n",
       "  </tbody>\n",
       "</table>\n",
       "</div>"
      ],
      "text/plain": [
       "   userid  version  sum_gamerounds  retention_1  retention_7\n",
       "0     116  gate_30               3        False        False\n",
       "1     337  gate_30              38         True        False\n",
       "2     377  gate_40             165         True        False\n",
       "3     483  gate_40               1        False        False\n",
       "4     488  gate_40             179         True         True"
      ]
     },
     "execution_count": 12,
     "metadata": {},
     "output_type": "execute_result"
    }
   ],
   "source": [
    "cookie_cats = 'https://raw.githubusercontent.com/a-milenkin/datasets_for_t-tests/main/cookie_cats.csv'\n",
    "\n",
    "data = pd.read_csv(cookie_cats, error_bad_lines=False)  # Откроем датасет\n",
    "data.head()"
   ]
  },
  {
   "cell_type": "markdown",
   "id": "79297f06",
   "metadata": {},
   "source": [
    "**Данные получены от 90 189 игроков, которые установили игру во время проведения AB-теста. Переменные:**\n",
    "\n",
    "* `userid` - уникальный номер, идентифицирующий каждого игрока.\n",
    "\n",
    "* `version` - был ли игрок помещен в контрольную группу (gate_30 - ворота на уровне 30) или в тестовую группу (gate_40 - ворота на уровне 40).\n",
    "\n",
    "* `sum_gamerounds` - количество игровых раундов, сыгранных игроком в течение первой недели после установки\n",
    "* `retention_1` - проигрыватель вернулся и поиграл через 1 день после установки?\n",
    "* `retention_7` - проигрыватель вернулся и играл через 7 дней после установки?\n",
    "\n",
    "Когда игрок устанавливал игру, ему случайным образом назначали `gate_30` или `gate_40`."
   ]
  },
  {
   "cell_type": "code",
   "execution_count": 13,
   "id": "a69e07c0",
   "metadata": {},
   "outputs": [],
   "source": [
    "from scipy.stats import f_oneway \n",
    "from scipy.stats import wilcoxon\n",
    "from scipy.stats import mannwhitneyu\n",
    "import scipy.stats as stats "
   ]
  },
  {
   "cell_type": "code",
   "execution_count": 14,
   "id": "ba77fdbd",
   "metadata": {},
   "outputs": [
    {
     "data": {
      "text/plain": [
       "0.3729086824696095"
      ]
     },
     "execution_count": 14,
     "metadata": {},
     "output_type": "execute_result"
    }
   ],
   "source": [
    "f, p = f_oneway(data[data['version'] == 'gate_30']['sum_gamerounds'], data[data['version'] == 'gate_40']['sum_gamerounds'])\n",
    "p"
   ]
  },
  {
   "cell_type": "code",
   "execution_count": 15,
   "id": "bf2f7be1",
   "metadata": {},
   "outputs": [
    {
     "data": {
      "image/png": "[encoded data removed]",
      "text/plain": [
       "<Figure size 748.875x360 with 2 Axes>"
      ]
     },
     "metadata": {
      "needs_background": "light"
     },
     "output_type": "display_data"
    }
   ],
   "source": [
    "df = data.loc[data['sum_gamerounds'] < 100].copy();\n",
    "sns.catplot(x=\"version\", y=\"sum_gamerounds\",\n",
    "            hue=\"retention_1\", col = 'retention_7',\n",
    "            data=df, kind=\"box\",\n",
    "            height=5, aspect=.95);"
   ]
  },
  {
   "cell_type": "code",
   "execution_count": 16,
   "id": "d083579b",
   "metadata": {},
   "outputs": [
    {
     "data": {
      "text/plain": [
       "<AxesSubplot:xlabel='sum_gamerounds', ylabel='Count'>"
      ]
     },
     "execution_count": 16,
     "metadata": {},
     "output_type": "execute_result"
    },
    {
     "data": {
      "image/png": "[encoded data removed]",
      "text/plain": [
       "<Figure size 432x288 with 1 Axes>"
      ]
     },
     "metadata": {
      "needs_background": "light"
     },
     "output_type": "display_data"
    }
   ],
   "source": [
    "sns.histplot(x=data[(data['version'] == 'gate_30') & (data['sum_gamerounds'] < 200)]['sum_gamerounds'], color='blue')\n",
    "sns.histplot(x=data[(data['version'] == 'gate_40') & (data['sum_gamerounds'] < 200)]['sum_gamerounds'], alpha=0.5, color='orange')"
   ]
  },
  {
   "cell_type": "markdown",
   "id": "56771062",
   "metadata": {},
   "source": [
    "Так как p-value = 0.37 > 0.05 эффект из-за сдвига ворот отсутствует, что также видно из граффика выше."
   ]
  },
  {
   "cell_type": "markdown",
   "id": "10dd8f72",
   "metadata": {},
   "source": [
    "# Покемоны и AB-тестирование \n",
    "(реальный кейс собеседования на позицию Аналитика).\n",
    "\n",
    "\n",
    "# Описание задачи\n",
    "\n",
    "![banner](https://storage.googleapis.com/kaggle-datasets-images/635/1204/126be74882028aac7241553cef0e27a7/dataset-original.jpg)\n",
    "\n",
    "Покемоны - это маленькие существа, которые сражаются друг с другом на соревнованиях. Все покемоны имеют разные характеристики (сила атаки, защиты и т. д.) И относятся к одному или двум так называемым классам (вода, огонь и т. д.).\n",
    "Профессор Оук является изобретателем Pokedex, портативного устройства, которое хранит информацию обо всех существующих покемонах. Как его ведущий специалист по данным, Вы только что получили от него запрос с просьбой осуществить аналитику данных на всех устройствах Pokedex. \n",
    "\n",
    "## Описание набора данных\n",
    "Профессор Оук скопировал все содержимое память одного устройства Pokedex, в результате чего получился набор данных, с которым Вы будете работать в этой задаче. В этом файле каждая строка представляет характеристики одного покемона:\n",
    "\n",
    "* `pid`: Numeric - ID покемона\n",
    "* `HP`: Numeric - Очки здоровья\n",
    "* `Attack`: Numeric - Сила обычной атаки\n",
    "* `Defense`: Numeric - Сила обычной защиты\n",
    "* `Sp. Atk`: Numeric - Сила специальной атаки\n",
    "* `Sp. Def`: Numeric - Сила специальной защиты\n",
    "* `Speed`: Numeric - Скорость движений\n",
    "* `Legendary`: Boolean - «True», если покемон редкий\n",
    "* `Class 1`: Categorical - Класс покемона\n",
    "* `Class 2`: Categorical - Класс покемона"
   ]
  },
  {
   "cell_type": "code",
   "execution_count": 17,
   "id": "098808fa",
   "metadata": {},
   "outputs": [
    {
     "data": {
      "text/html": [
       "<div>\n",
       "<style scoped>\n",
       "    .dataframe tbody tr th:only-of-type {\n",
       "        vertical-align: middle;\n",
       "    }\n",
       "\n",
       "    .dataframe tbody tr th {\n",
       "        vertical-align: top;\n",
       "    }\n",
       "\n",
       "    .dataframe thead th {\n",
       "        text-align: right;\n",
       "    }\n",
       "</style>\n",
       "<table border=\"1\" class=\"dataframe\">\n",
       "  <thead>\n",
       "    <tr style=\"text-align: right;\">\n",
       "      <th></th>\n",
       "      <th>pid</th>\n",
       "      <th>Name</th>\n",
       "      <th>Class 1</th>\n",
       "      <th>Class 2</th>\n",
       "      <th>HP</th>\n",
       "      <th>Attack</th>\n",
       "      <th>Defense</th>\n",
       "      <th>Sp. Atk</th>\n",
       "      <th>Sp. Def</th>\n",
       "      <th>Speed</th>\n",
       "      <th>Legendary</th>\n",
       "    </tr>\n",
       "  </thead>\n",
       "  <tbody>\n",
       "    <tr>\n",
       "      <th>0</th>\n",
       "      <td>1</td>\n",
       "      <td>Bulbasaur</td>\n",
       "      <td>Grass</td>\n",
       "      <td>Poison</td>\n",
       "      <td>45</td>\n",
       "      <td>49</td>\n",
       "      <td>49</td>\n",
       "      <td>65</td>\n",
       "      <td>65</td>\n",
       "      <td>45</td>\n",
       "      <td>False</td>\n",
       "    </tr>\n",
       "    <tr>\n",
       "      <th>1</th>\n",
       "      <td>2</td>\n",
       "      <td>Ivysaur</td>\n",
       "      <td>Grass</td>\n",
       "      <td>Poison</td>\n",
       "      <td>60</td>\n",
       "      <td>62</td>\n",
       "      <td>63</td>\n",
       "      <td>80</td>\n",
       "      <td>80</td>\n",
       "      <td>60</td>\n",
       "      <td>False</td>\n",
       "    </tr>\n",
       "    <tr>\n",
       "      <th>2</th>\n",
       "      <td>3</td>\n",
       "      <td>Venusaur</td>\n",
       "      <td>Grass</td>\n",
       "      <td>Poison</td>\n",
       "      <td>80</td>\n",
       "      <td>82</td>\n",
       "      <td>83</td>\n",
       "      <td>100</td>\n",
       "      <td>100</td>\n",
       "      <td>80</td>\n",
       "      <td>False</td>\n",
       "    </tr>\n",
       "    <tr>\n",
       "      <th>3</th>\n",
       "      <td>4</td>\n",
       "      <td>Mega Venusaur</td>\n",
       "      <td>Grass</td>\n",
       "      <td>Poison</td>\n",
       "      <td>80</td>\n",
       "      <td>100</td>\n",
       "      <td>123</td>\n",
       "      <td>122</td>\n",
       "      <td>120</td>\n",
       "      <td>80</td>\n",
       "      <td>False</td>\n",
       "    </tr>\n",
       "    <tr>\n",
       "      <th>4</th>\n",
       "      <td>5</td>\n",
       "      <td>Charmander</td>\n",
       "      <td>Fire</td>\n",
       "      <td>NaN</td>\n",
       "      <td>39</td>\n",
       "      <td>52</td>\n",
       "      <td>43</td>\n",
       "      <td>60</td>\n",
       "      <td>50</td>\n",
       "      <td>65</td>\n",
       "      <td>False</td>\n",
       "    </tr>\n",
       "  </tbody>\n",
       "</table>\n",
       "</div>"
      ],
      "text/plain": [
       "   pid           Name Class 1 Class 2  HP  Attack  Defense  Sp. Atk  Sp. Def  \\\n",
       "0    1      Bulbasaur   Grass  Poison  45      49       49       65       65   \n",
       "1    2        Ivysaur   Grass  Poison  60      62       63       80       80   \n",
       "2    3       Venusaur   Grass  Poison  80      82       83      100      100   \n",
       "3    4  Mega Venusaur   Grass  Poison  80     100      123      122      120   \n",
       "4    5     Charmander    Fire     NaN  39      52       43       60       50   \n",
       "\n",
       "   Speed  Legendary  \n",
       "0     45      False  \n",
       "1     60      False  \n",
       "2     80      False  \n",
       "3     80      False  \n",
       "4     65      False  "
      ]
     },
     "execution_count": 17,
     "metadata": {},
     "output_type": "execute_result"
    }
   ],
   "source": [
    "pokemon_path = 'https://raw.githubusercontent.com/a-milenkin/datasets_for_t-tests/main/pokemon.csv'\n",
    "pokemon = pd.read_csv(pokemon_path, error_bad_lines=False)  # Откроем датасет\n",
    "pokemon.head()\n",
    "#Обратите внимание, что у покемона может быть один или два класса. Если у покемона два класса, считается,\n",
    "#что они имеют одинаковую значимость."
   ]
  },
  {
   "cell_type": "markdown",
   "id": "bfd99562",
   "metadata": {},
   "source": [
    "<div class=\"alert alert-info\">\n",
    "<b>Задание № 1 (Обязательно):</b>\n",
    "    \n",
    "Профессор Оук подозревает, что покемоны в классе `grass` имеют более сильную обычную атаку, чем у покемонов в классе `rock`. Проверьте, прав ли он, и убедите его в своем выводе статистически.\n",
    "    \n",
    "    \n",
    "Примечание: если есть покемоны, которые относятся к обоим классам, просто выбросьте их;\n",
    "    \n",
    "Вы можете предположить, что распределение обычных атак является нормальным для всех классов покемонов.\n",
    "\n",
    "</div>\n"
   ]
  },
  {
   "cell_type": "markdown",
   "id": "ca8e1983",
   "metadata": {},
   "source": [
    "H0: покемоны в классах `grass` и `rock` имеют  **ОДИНАКОВУЮ** обычную атаку\n",
    "\n",
    "H1: покемоны в классах `grass` и `rock` имеют  **РАЗНУЮ** обычную атаку"
   ]
  },
  {
   "cell_type": "code",
   "execution_count": 18,
   "id": "9e62be42",
   "metadata": {},
   "outputs": [],
   "source": [
    "# отбросим покемонов, которые относятся к обоим классам\n",
    "grass_rock_deleted = pokemon.drop(pokemon[((pokemon['Class 1'] == 'Grass') & (pokemon['Class 2'] == 'Rock')) | ((pokemon['Class 1'] == 'Rock') & (pokemon['Class 2'] == 'Grass'))].index)"
   ]
  },
  {
   "cell_type": "code",
   "execution_count": 19,
   "id": "e2e32d02",
   "metadata": {},
   "outputs": [
    {
     "name": "stdout",
     "output_type": "stream",
     "text": [
      "Grass attack mean 73.73118279569893\n",
      "Rock attack mean 91.78571428571429\n",
      "Ttest_indResult(statistic=-3.4169379582521513, pvalue=0.0009640546913545304)\n",
      "Отвергаем нулевую гипотезу, покемоны в классах grass и rock имеют РАЗНУЮ обычную атаку.\n",
      "Судя по средним значениям покемоны в классе Rock имеют более сильную обычную атаку, чем у покемонов в классе Grass\n"
     ]
    }
   ],
   "source": [
    "alpha = 0.05\n",
    "result = stats.ttest_ind(grass_rock_deleted[(grass_rock_deleted['Class 1'] == 'Grass') | (grass_rock_deleted['Class 2'] == 'Grass')]['Attack'], grass_rock_deleted[(grass_rock_deleted['Class 1'] == 'Rock') | (grass_rock_deleted['Class 2'] == 'Rock')]['Attack'], nan_policy='omit', equal_var=False)\n",
    "\n",
    "grass_attack_mean = grass_rock_deleted[(grass_rock_deleted['Class 1'] == 'Grass') | (grass_rock_deleted['Class 2'] == 'Grass')]['Attack'].mean()\n",
    "rock_attack_mean = grass_rock_deleted[(grass_rock_deleted['Class 1'] == 'Rock') | (grass_rock_deleted['Class 2'] == 'Rock')]['Attack'].mean()\n",
    "\n",
    "print('Grass attack mean', grass_attack_mean)\n",
    "print('Rock attack mean', rock_attack_mean)\n",
    "print(result)\n",
    "\n",
    "higher_attack_class = ''\n",
    "lower_attack_class = ''\n",
    "if grass_attack_mean > rock_attack_mean:\n",
    "    higher_attack_class = 'Grass'\n",
    "    lower_attack_class = 'Rock'\n",
    "else:\n",
    "    higher_attack_class = 'Rock'\n",
    "    lower_attack_class = 'Grass'\n",
    "    \n",
    "if result.pvalue < alpha: \n",
    "    print(f'Отвергаем нулевую гипотезу, покемоны в классах grass и rock имеют РАЗНУЮ обычную атаку.\\nСудя по средним значениям покемоны в классе {higher_attack_class} имеют более сильную обычную атаку, чем у покемонов в классе {lower_attack_class}')\n",
    "else:\n",
    "    print('Не отвергаем нулевую нулевую гипотезу, покемоны в классах grass и rock имеют ОДИНАКОВУЮ обычную атаку')"
   ]
  },
  {
   "cell_type": "markdown",
   "id": "b85f128a",
   "metadata": {},
   "source": [
    "<div class=\"alert alert-info\">\n",
    "<b>Задание № 2 (Обязательно):</b>\n",
    "    \n",
    "Профессор Оук уже долго не может спать по ночам ведь его волнует вопрос, а правда, что покемоны что покемоны в классе `Water` в среднем более быстрые, чем покемоны в классе `Normal`. \n",
    "    \n",
    "    \n",
    "Проверьте, прав ли он, и убедите его в своем выводе статистически.\n",
    "    \n",
    "Примечание: если есть покемоны относятся к обоим классам, выбросьте их;\n",
    "    \n",
    "Вы можете предположить, что распределение скорости движения является нормальным для всех классов покемонов.\n",
    "\n",
    "</div>"
   ]
  },
  {
   "cell_type": "markdown",
   "id": "5cf5b08b",
   "metadata": {},
   "source": [
    "H0: покемоны в классах `Water` и `Normal` имеют  **ОДИНАКОВУЮ** скорость\n",
    "\n",
    "H1: покемоны в классах `Water` и `Normal` имеют  **РАЗНУЮ** скорость"
   ]
  },
  {
   "cell_type": "code",
   "execution_count": 20,
   "id": "622c78f2",
   "metadata": {},
   "outputs": [],
   "source": [
    "# отбросим покемонов, которые относятся к обоим классам\n",
    "water_normal_deleted = pokemon.drop(pokemon[((pokemon['Class 1'] == 'Water') & (pokemon['Class 2'] == 'Normal')) | ((pokemon['Class 1'] == 'Normal') & (pokemon['Class 2'] == 'Water'))].index)"
   ]
  },
  {
   "cell_type": "code",
   "execution_count": 21,
   "id": "84529301",
   "metadata": {},
   "outputs": [
    {
     "name": "stdout",
     "output_type": "stream",
     "text": [
      "Water speed mean 64.936\n",
      "Normal speed mean 72.25742574257426\n",
      "Ttest_indResult(statistic=2.0716073003150415, pvalue=0.040479418531815546)\n",
      "Отвергаем нулевую гипотезу, покемоны в классах water и normal имеют РАЗНУЮ скорость.\n",
      "Судя по средним значениям покемоны в классе Normal в среднем более быстрые, покемоны в классе Water\n"
     ]
    }
   ],
   "source": [
    "alpha = 0.05\n",
    "result = stats.ttest_ind(water_normal_deleted[(water_normal_deleted['Class 1'] == 'Grass') | (water_normal_deleted['Class 2'] == 'Grass')]['Speed'], water_normal_deleted[(water_normal_deleted['Class 1'] == 'Rock') | (water_normal_deleted['Class 2'] == 'Rock')]['Speed'], nan_policy='omit', equal_var=False)\n",
    "\n",
    "water_speed_mean = water_normal_deleted[(water_normal_deleted['Class 1'] == 'Water') | (water_normal_deleted['Class 2'] == 'Water')]['Speed'].mean()\n",
    "\n",
    "normal_speed_mean = water_normal_deleted[(water_normal_deleted['Class 1'] == 'Normal') | (water_normal_deleted['Class 2'] == 'Normal')]['Speed'].mean()\n",
    "\n",
    "print('Water speed mean', water_speed_mean)\n",
    "print('Normal speed mean', normal_speed_mean)\n",
    "print(result)\n",
    "\n",
    "higher_speed_class = ''\n",
    "lower_speed_class = ''\n",
    "if water_speed_mean > normal_speed_mean:\n",
    "    higher_speed_class = 'Water'\n",
    "    lower_speed_class = 'Normal'\n",
    "else:\n",
    "    higher_speed_class = 'Normal'\n",
    "    lower_speed_class = 'Water'\n",
    "    \n",
    "if result.pvalue < alpha: \n",
    "    print(f'Отвергаем нулевую гипотезу, покемоны в классах water и normal имеют РАЗНУЮ скорость.\\nСудя по средним значениям покемоны в классе {higher_speed_class} в среднем более быстрые, чем покемоны в классе {lower_speed_class}')\n",
    "else:\n",
    "    print('Не отвергаем нулевую нулевую гипотезу, покемоны в классах grass и rock имеют ОДИНАКОВУЮ скорость')"
   ]
  },
  {
   "cell_type": "markdown",
   "id": "f2240b52",
   "metadata": {},
   "source": [
    "<div class=\"alert alert-info\">\n",
    "<b>Задание № 4:</b>\n",
    "    \n",
    "Профессор Оук тот еще безумец. Он изобрел сыворотку, способную ускорить покемона. Однако, мы усомнились в эффективности его вакцины. Професоор дал эту сыворотку следующим покемонам: смотри массив `treathed_pokemon`. Проверьте, работает ли вообще его сыворотка, убедите всех в своем выводе статистически.\n",
    "    \n",
    "    \n",
    "Вы можете предположить, что распределение скорости движения является нормальным для всех классов покемонов.\n",
    "\n",
    "</div>"
   ]
  },
  {
   "cell_type": "markdown",
   "id": "a8d3b37d",
   "metadata": {},
   "source": [
    "H0: сыворотка скорости не работает\n",
    "\n",
    "H1: сыворотка скорости ускоряет покемонов"
   ]
  },
  {
   "cell_type": "code",
   "execution_count": 35,
   "id": "50242b33",
   "metadata": {},
   "outputs": [],
   "source": [
    "# Покемоны, которые принимали сыворотку увеличения скорости\n",
    "treated_pokemon = ['Mega Beedrill','Mega Alakazam', 'Deoxys Normal Forme', 'Mega Lopunny']"
   ]
  },
  {
   "cell_type": "code",
   "execution_count": 37,
   "id": "9bc8694a",
   "metadata": {},
   "outputs": [],
   "source": [
    "# отбросим покемонов из treathed_pokemon из генеральной совокупности\n",
    "treated_pokemon_deleted = pokemon[~pokemon['Name'].isin(treated_pokemon)]"
   ]
  },
  {
   "cell_type": "code",
   "execution_count": 39,
   "id": "94ede44d",
   "metadata": {},
   "outputs": [
    {
     "name": "stdout",
     "output_type": "stream",
     "text": [
      "Ttest_1sampResult(statistic=21.809447244054226, pvalue=0.0001054944287676195)\n",
      "Сыворотка скорости ускоряет покемонов\n"
     ]
    }
   ],
   "source": [
    "alpha = 0.05\n",
    "\n",
    "treated_pokemon_array = pokemon[pokemon['Name'].isin(treated_pokemon)]['Speed']\n",
    "\n",
    "treated_pokemon_deleted_mean = treated_pokemon_deleted['Speed'].mean()\n",
    "\n",
    "result = stats.ttest_1samp(treated_pokemon_array, treated_pokemon_deleted_mean, nan_policy='omit', alternative='greater')\n",
    "\n",
    "print(result)\n",
    "    \n",
    "if result.pvalue < alpha: \n",
    "    print('Сыворотка скорости ускоряет покемонов')\n",
    "else:\n",
    "    print('Сыворотка скорости не работает')"
   ]
  },
  {
   "cell_type": "markdown",
   "id": "0c590090",
   "metadata": {},
   "source": [
    "<div class=\"alert alert-info\">\n",
    "<b>Задание № 5:</b>\n",
    "    \n",
    "Профессор Оук всегда любил истории про легендарных покемонов. Однако, профессор не очень уверен, что они самые лучшие относительно остальных покемонов. Оук предложил разобраться в этом нам. Проверьте, действительно ли сумма характеристик `HP`,`Attack`,`Defense` у легендарных покемонов выше, чем у других покемонов? А произведение этих же параметров?? Найдите ответы на эти вопросы и убедите всех в своем выводе статистически.\n",
    "   \n",
    "\n",
    "Вы можете предположить, что распределение сум и произведений этих параметров является нормальным для всех классов покемонов.\n",
    "\n",
    "</div>"
   ]
  },
  {
   "cell_type": "markdown",
   "id": "8b3c9dfe",
   "metadata": {},
   "source": [
    "H0: легендарные покемоны **НЕ ОТЛИЧАЮТСЯ** по характеристикам от обычных\n",
    "\n",
    "H1: легендарные покемоны **ОТЛИЧАЮТСЯ** по характеристикам от обычных"
   ]
  },
  {
   "cell_type": "code",
   "execution_count": 62,
   "id": "3db4c54a",
   "metadata": {},
   "outputs": [],
   "source": [
    "# поделим покемонов на легендарных и не легендарных\n",
    "pokemon_legendary = pokemon[pokemon['Legendary'] == True]\n",
    "pokemon_non_legendary = pokemon[pokemon['Legendary'] == False]\n",
    "\n",
    "sum_legendary = pokemon_legendary.loc[:, ('HP', 'Attack', 'Defense')].sum(axis=1)\n",
    "sum_non_legendary = pokemon_non_legendary.loc[:, ('HP', 'Attack', 'Defense')].sum(axis=1)\n",
    "\n",
    "multiply_legendary = pokemon_legendary['HP'] * pokemon_legendary['Attack'] * pokemon_legendary['Defense']\n",
    "multiply_non_legendary = pokemon_non_legendary['HP'] * pokemon_non_legendary['Attack'] * pokemon_non_legendary['Defense']"
   ]
  },
  {
   "cell_type": "code",
   "execution_count": 67,
   "id": "9694661c",
   "metadata": {},
   "outputs": [
    {
     "name": "stdout",
     "output_type": "stream",
     "text": [
      "Mean of sum of legendary 309.0769230769231\n",
      "Mean of sum of non legendary 214.4108843537415\n",
      "Mean of multiplication of legendary 1085941.6153846155\n",
      "Mean of multiplication of non legendary 425041.38911564625\n",
      "Ttest_indResult(statistic=15.19759110757148, pvalue=2.9282718703329855e-26)\n",
      "Ttest_indResult(statistic=10.079078507434385, pvalue=2.895038880907388e-15)\n",
      "Отвергаем нулевую гипотезу, легендарные покемоны отличаются от обычных.\n",
      "Судя по средним значениям сумм Легендарные покемоны лучше, чем Не легендарные покемоны.\n",
      "Судя по средним значениям умножений Легендарные покемоны лучше, чем Не легендарные покемоны\n"
     ]
    }
   ],
   "source": [
    "alpha = 0.05\n",
    "result_sum = stats.ttest_ind(sum_legendary, sum_non_legendary, nan_policy='omit', equal_var=False)\n",
    "\n",
    "result_multiply = stats.ttest_ind(multiply_legendary, multiply_non_legendary, nan_policy='omit', equal_var=False)\n",
    "\n",
    "sum_legendary_mean = sum_legendary.mean()\n",
    "sum_non_legendary_mean = sum_non_legendary.mean()\n",
    "multiply_legendary_mean = multiply_legendary.mean()\n",
    "multiply_non_legendary_mean = multiply_non_legendary.mean()\n",
    "\n",
    "print('Mean of sum of legendary', sum_legendary_mean)\n",
    "print('Mean of sum of non legendary', sum_non_legendary_mean)\n",
    "print('Mean of multiplication of legendary', multiply_legendary_mean)\n",
    "print('Mean of multiplication of non legendary', multiply_non_legendary_mean)\n",
    "\n",
    "print(result_sum)\n",
    "print(result_multiply)\n",
    "\n",
    "higher_sum_mean = ''\n",
    "higher_multiply_mean = ''\n",
    "lower_sum_mean = ''\n",
    "lower_multiply_mean = ''\n",
    "\n",
    "if sum_legendary_mean > sum_non_legendary_mean:\n",
    "    higher_sum_mean = 'Легендарные'\n",
    "    lower_sum_mean = 'Не легендарные'\n",
    "else:\n",
    "    higher_sum_mean = 'Не легендарные'\n",
    "    lower_sum_mean = 'Легендарные'\n",
    "\n",
    "if multiply_legendary_mean > multiply_non_legendary_mean:\n",
    "    higher_multiply_mean = 'Легендарные'\n",
    "    lower_multiply_mean = 'Не легендарные'\n",
    "else:\n",
    "    higher_multiply_mean = 'Не легендарные'\n",
    "    lower_multiply_mean = 'Легендарные'\n",
    "    \n",
    "if result_sum.pvalue < alpha and result_multiply.pvalue < alpha: \n",
    "    print(f'Отвергаем нулевую гипотезу, легендарные покемоны отличаются от обычных.\\nСудя по средним значениям сумм {higher_sum_mean} покемоны лучше, чем {lower_sum_mean} покемоны.\\nСудя по средним значениям умножений {higher_multiply_mean} покемоны лучше, чем {lower_multiply_mean} покемоны')\n",
    "else:\n",
    "    print('Не отвергаем нулевую нулевую гипотезу, легендарные покемоны не отличаются от обычны')"
   ]
  },
  {
   "cell_type": "markdown",
   "id": "fa8190eb",
   "metadata": {},
   "source": [
    "<div class=\"alert alert-info\">\n",
    "<b>Задание № 6:</b>\n",
    "    \n",
    "Профессор Оук частенько наблюдает за боями покемонов. После очередных таких боев Оук выделил три класса `best_defence_class`, которые на его взгляд одинаковы по \"силе обычной защиты\" `Defense`. Проверьте, действительно ли эти классы покемонов не отличаются по уровню защиты статистически значимо? Все та же статистика вам в помощь! \n",
    "   \n",
    "\n",
    "Вы можете предположить, что распределение сум и произведений этих параметров является нормальным для всех классов покемонов.\n",
    "\n",
    "</div>"
   ]
  },
  {
   "cell_type": "code",
   "execution_count": 26,
   "id": "0689e08d",
   "metadata": {},
   "outputs": [
    {
     "data": {
      "text/plain": [
       "['Rock', 'Ground', 'Steel', 'Ice']"
      ]
     },
     "execution_count": 26,
     "metadata": {},
     "output_type": "execute_result"
    }
   ],
   "source": [
    "best_defence_class = ['Rock', 'Ground','Steel','Ice']\n",
    "best_defence_class"
   ]
  },
  {
   "cell_type": "markdown",
   "id": "92e01f43",
   "metadata": {},
   "source": [
    "H0: покемоны из best_defence_class **НЕ ОТЛИЧАЮТСЯ** по \"силе обычной защиты\" друг от друга\n",
    "\n",
    "H1: покемоны из best_defence_class **ОТЛИЧАЮТСЯ** по \"силе обычной защиты\" друг от друга"
   ]
  },
  {
   "cell_type": "code",
   "execution_count": 78,
   "id": "db1e6742",
   "metadata": {},
   "outputs": [],
   "source": [
    "rock = pokemon[(pokemon['Class 1'] == 'Rock') | (pokemon['Class 2'] == 'Rock')]['Defense']\n",
    "ground = pokemon[(pokemon['Class 1'] == 'Ground') | (pokemon['Class 2'] == 'Ground')]['Defense']\n",
    "steel = pokemon[(pokemon['Class 1'] == 'Steel') | (pokemon['Class 2'] == 'Steel')]['Defense']\n",
    "ice = pokemon[(pokemon['Class 1'] == 'Ice') | (pokemon['Class 2'] == 'Ice')]['Defense']"
   ]
  },
  {
   "cell_type": "code",
   "execution_count": 80,
   "id": "faaa651d",
   "metadata": {},
   "outputs": [
    {
     "name": "stdout",
     "output_type": "stream",
     "text": [
      "Rock mean: 107.08620689655173\n",
      "Ground mean: 87.70149253731343\n",
      "Steel mean: 116.61224489795919\n",
      "Ice mean: 76.65789473684211\n",
      "F_onewayResult(statistic=10.82012408304731, pvalue=1.231528168152447e-06)\n",
      "Отвергаем нулевую гипотезу, покемоны из best_defence_class отличаются по \"силе обычной защиты\" друг от друга\n"
     ]
    }
   ],
   "source": [
    "alpha = 0.05\n",
    "result = stats.f_oneway(rock, ground, steel, ice)\n",
    "\n",
    "print('Rock mean:', rock.mean())\n",
    "print('Ground mean:', ground.mean())\n",
    "print('Steel mean:', steel.mean())\n",
    "print('Ice mean:', ice.mean())\n",
    "\n",
    "print(result)\n",
    "\n",
    "if result.pvalue < alpha: \n",
    "    print(f'Отвергаем нулевую гипотезу, покемоны из best_defence_class отличаются по \"силе обычной защиты\" друг от друга')\n",
    "else:\n",
    "    print('Не отвергаем нулевую нулевую гипотезу, покемоны из best_defence_class отличаются по \"силе обычной защиты\" друг от друга')"
   ]
  }
 ],
 "metadata": {
  "kernelspec": {
   "display_name": "Python 3",
   "language": "python",
   "name": "python3"
  },
  "language_info": {
   "codemirror_mode": {
    "name": "ipython",
    "version": 3
   },
   "file_extension": ".py",
   "mimetype": "text/x-python",
   "name": "python",
   "nbconvert_exporter": "python",
   "pygments_lexer": "ipython3",
   "version": "3.8.5"
  }
 },
 "nbformat": 4,
 "nbformat_minor": 5
}
