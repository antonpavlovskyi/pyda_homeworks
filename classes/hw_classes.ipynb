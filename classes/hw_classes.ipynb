{
 "cells": [
  {
   "cell_type": "markdown",
   "id": "qualified-puzzle",
   "metadata": {},
   "source": [
    "# Домашнее задание"
   ]
  },
  {
   "cell_type": "markdown",
   "id": "promising-bermuda",
   "metadata": {},
   "source": [
    "## Задание 1"
   ]
  },
  {
   "cell_type": "code",
   "execution_count": 16,
   "id": "regulation-saskatchewan",
   "metadata": {
    "tags": []
   },
   "outputs": [],
   "source": [
    "from libs.exchange import Rate"
   ]
  },
  {
   "cell_type": "code",
   "execution_count": 34,
   "id": "optical-emerald",
   "metadata": {},
   "outputs": [
    {
     "data": {
      "text/plain": [
       "'СДР (специальные права заимствования)'"
      ]
     },
     "execution_count": 34,
     "metadata": {},
     "output_type": "execute_result"
    }
   ],
   "source": [
    "# A much faster approach\n",
    "import requests\n",
    "r = requests.get('https://www.cbr-xml-daily.ru/daily_json.js')\n",
    "\n",
    "datadict = r.json()['Valute']\n",
    "def find_max(val):\n",
    "    return val[1]['Value']\n",
    "max(datadict.items(), key=lambda x: find_max(x))[1]['Name']\n",
    "# max(datadict.items(), key=lambda x: x[1]['Value'])[1]['Name']"
   ]
  },
  {
   "cell_type": "code",
   "execution_count": 18,
   "id": "commercial-chain",
   "metadata": {},
   "outputs": [],
   "source": [
    "# Первый способ\n",
    "class MaxCurrency(Rate):\n",
    "    \"\"\"\n",
    "    Класс MaxCurrency наследует класс Rate и имеет один метод max_rate,\n",
    "    который возвращает название валюты с максимальным курсом на момент вызова\n",
    "    \"\"\"\n",
    "    def __init__(self):\n",
    "        super().__init__(format_='value')\n",
    "    def max_rate(self):\n",
    "        \"\"\"\n",
    "        метод max_rate, возвращает название валюты\n",
    "        с максимальным курсом на момент вызова\n",
    "        \"\"\"\n",
    "        highest_rate = 0\n",
    "        max_name = ''\n",
    "        for key, value in self.exchange_rates().items():\n",
    "            current_max = self.make_format(key)   # value[\"Value\"]\n",
    "            if current_max > highest_rate:\n",
    "                highest_rate = current_max\n",
    "                max_name = value[\"Name\"]\n",
    "        return max_name"
   ]
  },
  {
   "cell_type": "code",
   "execution_count": 19,
   "id": "afraid-ordering",
   "metadata": {},
   "outputs": [
    {
     "data": {
      "text/plain": [
       "'СДР (специальные права заимствования)'"
      ]
     },
     "execution_count": 19,
     "metadata": {},
     "output_type": "execute_result"
    }
   ],
   "source": [
    "MaxCurrency().max_rate()"
   ]
  },
  {
   "cell_type": "code",
   "execution_count": 29,
   "id": "unique-spell",
   "metadata": {},
   "outputs": [],
   "source": [
    "# Второй способ\n",
    "class MaxCurrency(Rate):\n",
    "    \"\"\"\n",
    "    Класс MaxCurrency наследует класс Rate и имеет один метод max_rate,\n",
    "    который возвращает название валюты с максимальным курсом на момент вызова\n",
    "    \"\"\"\n",
    "    def __init__(self):\n",
    "        super().__init__(format_='value')\n",
    "    def max_rate_2(self):\n",
    "        \"\"\"\n",
    "        метод max_rate, возвращает название валюты\n",
    "        с максимальным курсом на момент вызова\n",
    "        \"\"\"\n",
    "        max_name = ''\n",
    "        rates_list = []\n",
    "        for key, value in self.exchange_rates().items():\n",
    "            rates_list.append((value[\"Value\"], value[\"Name\"]))\n",
    "        return max(rates_list)[1]"
   ]
  },
  {
   "cell_type": "code",
   "execution_count": 30,
   "id": "artificial-soccer",
   "metadata": {},
   "outputs": [
    {
     "data": {
      "text/plain": [
       "'СДР (специальные права заимствования)'"
      ]
     },
     "execution_count": 30,
     "metadata": {},
     "output_type": "execute_result"
    }
   ],
   "source": [
    "MaxCurrency().max_rate_2()"
   ]
  },
  {
   "cell_type": "markdown",
   "id": "humanitarian-iceland",
   "metadata": {},
   "source": [
    "## Задание 2"
   ]
  },
  {
   "cell_type": "code",
   "execution_count": null,
   "id": "classical-sarah",
   "metadata": {},
   "outputs": [],
   "source": [
    "class RateWithDiff(Rate):\n",
    "    \"\"\"\n",
    "    Класс RateWithDiff наследует класс Rate\n",
    "    \"\"\"\n",
    "    def __init__(self, diff=False):\n",
    "        super().__init__(format_='value')\n",
    "        self.diff = diff\n",
    "    def make_format(self, currency):\n",
    "        \"\"\"\n",
    "        Возвращает информацию о валюте currency в трех вариантах:\n",
    "        1) полная информация о валюте при self.format = 'full':\n",
    "        Rate(format_='full').make_format('EUR')\n",
    "        {\n",
    "            'CharCode': 'EUR',\n",
    "            'ID': 'R01239',\n",
    "            'Name': 'Евро',\n",
    "            'Nominal': 1,\n",
    "            'NumCode': '978',\n",
    "            'Previous': 79.6765,\n",
    "            'Value': 79.4966\n",
    "        }\n",
    "        2) краткая информация про курс на текущий момент при self.format = 'value':\n",
    "        Rate(format_='value').make_format('EUR')\n",
    "        79.4966\n",
    "        3) изменение курса по сравнению в прошлым значением:\n",
    "        Rate(format_='value', diff=True).make_format('EUR')\n",
    "        0.87\n",
    "        \"\"\"\n",
    "        response = self.exchange_rates()\n",
    "        \n",
    "        if currency in response:\n",
    "            if self.format == 'full':\n",
    "                return response[currency]\n",
    "\n",
    "            if self.format == 'value' and self.diff == False:\n",
    "                return response[currency]['Value']\n",
    "            \n",
    "            if self.format == 'value' and self.diff == True:\n",
    "                return round(abs(response[currency]['Value'] - response[currency]['Previous']), 2)\n",
    "\n",
    "        return 'Error'"
   ]
  },
  {
   "cell_type": "code",
   "execution_count": null,
   "id": "incorporated-department",
   "metadata": {},
   "outputs": [],
   "source": [
    "RateWithDiff().eur()"
   ]
  },
  {
   "cell_type": "code",
   "execution_count": null,
   "id": "sublime-attention",
   "metadata": {},
   "outputs": [],
   "source": [
    "RateWithDiff(diff=True).eur()"
   ]
  },
  {
   "cell_type": "markdown",
   "id": "adjustable-drain",
   "metadata": {
    "tags": []
   },
   "source": [
    "## Задание 3"
   ]
  },
  {
   "cell_type": "code",
   "execution_count": null,
   "id": "overhead-tackle",
   "metadata": {},
   "outputs": [],
   "source": [
    "class Employee:\n",
    "    def __init__(self, name, seniority):\n",
    "        self.name = name\n",
    "        self.seniority = seniority\n",
    "        \n",
    "        self.grade = 1\n",
    "    \n",
    "    def grade_up(self):\n",
    "        \"\"\"Повышает уровень сотрудника\"\"\"\n",
    "        self.grade += 1\n",
    "    \n",
    "    def publish_grade(self):\n",
    "        \"\"\"Публикация результатов аккредитации сотрудников\"\"\"\n",
    "        print(self.name, self.grade)\n",
    "    \n",
    "    def check_if_it_is_time_for_upgrade(self):\n",
    "        pass"
   ]
  },
  {
   "cell_type": "code",
   "execution_count": null,
   "id": "cardiovascular-glenn",
   "metadata": {},
   "outputs": [],
   "source": [
    "class Designer(Employee):\n",
    "    def __init__(self, name, seniority):\n",
    "        super().__init__(name, seniority)\n",
    "        self.prize = 2\n",
    "        \n",
    "    def international_prize(self):\n",
    "        \"\"\"\n",
    "        Добавляет международную премию дизайнеру\n",
    "        \"\"\"\n",
    "        self.prize += 1\n",
    "        \n",
    "    def check_if_it_is_time_for_upgrade(self):\n",
    "        \"\"\"\n",
    "        Добавляет прохождение аккредитации и проверяет условие повышения сотрудника\n",
    "        на основании прохождения аккредитации и количества международных премий\n",
    "        \"\"\"\n",
    "        # прохождение аккредитации\n",
    "        self.seniority += 1\n",
    "        \n",
    "        # баллы за международные премии\n",
    "        self.seniority += self.prize * 2\n",
    "        \n",
    "        # условие повышения сотрудника\n",
    "        self.grade = self.seniority // 7\n",
    "        \n",
    "        # публикация результатов\n",
    "        return self.publish_grade()\n",
    "    def publish_grade(self):\n",
    "        \"\"\"Публикация результатов аккредитации сотрудников\"\"\"\n",
    "        print(self.name, self.grade)"
   ]
  },
  {
   "cell_type": "code",
   "execution_count": null,
   "id": "international-hydrogen",
   "metadata": {},
   "outputs": [],
   "source": [
    "anton = Designer(\"Антон\", 0)"
   ]
  },
  {
   "cell_type": "code",
   "execution_count": null,
   "id": "informational-television",
   "metadata": {},
   "outputs": [],
   "source": [
    "anton.check_if_it_is_time_for_upgrade()"
   ]
  },
  {
   "cell_type": "code",
   "execution_count": null,
   "id": "fiscal-madrid",
   "metadata": {},
   "outputs": [],
   "source": [
    "anton.international_prize()"
   ]
  },
  {
   "cell_type": "code",
   "execution_count": null,
   "id": "sustained-hydrogen",
   "metadata": {},
   "outputs": [],
   "source": [
    "for i in range(20):\n",
    "    anton.check_if_it_is_time_for_upgrade()"
   ]
  }
 ],
 "metadata": {
  "kernelspec": {
   "display_name": "Python 3",
   "language": "python",
   "name": "python3"
  },
  "language_info": {
   "codemirror_mode": {
    "name": "ipython",
    "version": 3
   },
   "file_extension": ".py",
   "mimetype": "text/x-python",
   "name": "python",
   "nbconvert_exporter": "python",
   "pygments_lexer": "ipython3",
   "version": "3.8.5"
  }
 },
 "nbformat": 4,
 "nbformat_minor": 5
}
