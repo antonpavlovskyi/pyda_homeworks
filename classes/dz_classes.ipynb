{
 "cells": [
  {
   "cell_type": "markdown",
   "id": "infinite-stocks",
   "metadata": {},
   "source": [
    "# Домашнее задание"
   ]
  },
  {
   "cell_type": "markdown",
   "id": "antique-mortality",
   "metadata": {},
   "source": [
    "## Задание 1"
   ]
  },
  {
   "cell_type": "code",
   "execution_count": 1,
   "id": "organic-concrete",
   "metadata": {
    "tags": []
   },
   "outputs": [],
   "source": [
    "from libs.exchange import Rate"
   ]
  },
  {
   "cell_type": "code",
   "execution_count": 19,
   "id": "further-assessment",
   "metadata": {},
   "outputs": [],
   "source": [
    "class MaxCurrency(Rate):\n",
    "    \"\"\"\n",
    "    Класс MaxCurrency наследует класс Rate и имеет один метод max_rate,\n",
    "    который возвращает название валюты с максимальным курсом на момент вызова\n",
    "    \"\"\"\n",
    "    def __init__(self):\n",
    "        super().__init__(format_='value')\n",
    "    def max_rate(self):\n",
    "        \"\"\"\n",
    "        метод max_rate, возвращает название валюты\n",
    "        с максимальным курсом на момент вызова\n",
    "        \"\"\"\n",
    "        highest_rate = 0\n",
    "        max_name = ''\n",
    "        for key, value in self.exchange_rates().items():\n",
    "            current_max = self.make_format(key)   # value[\"Value\"]\n",
    "            if current_max > highest_rate:\n",
    "                highest_rate = current_max\n",
    "                max_name = value[\"Name\"]\n",
    "        return max_name"
   ]
  },
  {
   "cell_type": "code",
   "execution_count": 20,
   "id": "applicable-grammar",
   "metadata": {},
   "outputs": [
    {
     "data": {
      "text/plain": [
       "'СДР (специальные права заимствования)'"
      ]
     },
     "execution_count": 20,
     "metadata": {},
     "output_type": "execute_result"
    }
   ],
   "source": [
    "MaxCurrency().max_rate()"
   ]
  },
  {
   "cell_type": "code",
   "execution_count": 50,
   "id": "religious-occasions",
   "metadata": {},
   "outputs": [
    {
     "ename": "TypeError",
     "evalue": "'Rate' object is not callable",
     "output_type": "error",
     "traceback": [
      "\u001b[0;31m---------------------------------------------------------------------------\u001b[0m",
      "\u001b[0;31mTypeError\u001b[0m                                 Traceback (most recent call last)",
      "\u001b[0;32m<ipython-input-50-6247087420e9>\u001b[0m in \u001b[0;36m<module>\u001b[0;34m\u001b[0m\n\u001b[1;32m      5\u001b[0m         \u001b[0mrates_list\u001b[0m\u001b[0;34m.\u001b[0m\u001b[0mappend\u001b[0m\u001b[0;34m(\u001b[0m\u001b[0mvalue\u001b[0m\u001b[0;34m[\u001b[0m\u001b[0;34m\"Value\"\u001b[0m\u001b[0;34m]\u001b[0m\u001b[0;34m)\u001b[0m\u001b[0;34m\u001b[0m\u001b[0;34m\u001b[0m\u001b[0m\n\u001b[1;32m      6\u001b[0m     \u001b[0;32mreturn\u001b[0m \u001b[0mmax\u001b[0m\u001b[0;34m(\u001b[0m\u001b[0mmax_name\u001b[0m\u001b[0;34m)\u001b[0m\u001b[0;34m\u001b[0m\u001b[0;34m\u001b[0m\u001b[0m\n\u001b[0;32m----> 7\u001b[0;31m \u001b[0mmax_rate_2\u001b[0m\u001b[0;34m(\u001b[0m\u001b[0;34m)\u001b[0m\u001b[0;34m\u001b[0m\u001b[0;34m\u001b[0m\u001b[0m\n\u001b[0m",
      "\u001b[0;32m<ipython-input-50-6247087420e9>\u001b[0m in \u001b[0;36mmax_rate_2\u001b[0;34m()\u001b[0m\n\u001b[1;32m      4\u001b[0m     \u001b[0;32mfor\u001b[0m \u001b[0mkey\u001b[0m\u001b[0;34m,\u001b[0m \u001b[0mvalue\u001b[0m \u001b[0;32min\u001b[0m \u001b[0mmax_currency\u001b[0m\u001b[0;34m.\u001b[0m\u001b[0mexchange_rates\u001b[0m\u001b[0;34m(\u001b[0m\u001b[0;34m)\u001b[0m\u001b[0;34m.\u001b[0m\u001b[0mitems\u001b[0m\u001b[0;34m(\u001b[0m\u001b[0;34m)\u001b[0m\u001b[0;34m:\u001b[0m\u001b[0;34m\u001b[0m\u001b[0;34m\u001b[0m\u001b[0m\n\u001b[1;32m      5\u001b[0m         \u001b[0mrates_list\u001b[0m\u001b[0;34m.\u001b[0m\u001b[0mappend\u001b[0m\u001b[0;34m(\u001b[0m\u001b[0mvalue\u001b[0m\u001b[0;34m[\u001b[0m\u001b[0;34m\"Value\"\u001b[0m\u001b[0;34m]\u001b[0m\u001b[0;34m)\u001b[0m\u001b[0;34m\u001b[0m\u001b[0;34m\u001b[0m\u001b[0m\n\u001b[0;32m----> 6\u001b[0;31m     \u001b[0;32mreturn\u001b[0m \u001b[0mmax\u001b[0m\u001b[0;34m(\u001b[0m\u001b[0mmax_name\u001b[0m\u001b[0;34m)\u001b[0m\u001b[0;34m\u001b[0m\u001b[0;34m\u001b[0m\u001b[0m\n\u001b[0m\u001b[1;32m      7\u001b[0m \u001b[0mmax_rate_2\u001b[0m\u001b[0;34m(\u001b[0m\u001b[0;34m)\u001b[0m\u001b[0;34m\u001b[0m\u001b[0;34m\u001b[0m\u001b[0m\n",
      "\u001b[0;31mTypeError\u001b[0m: 'Rate' object is not callable"
     ]
    }
   ],
   "source": [
    "# Объясните, пожалуйста, почему здесь выдает \n",
    "def max_rate_2():\n",
    "    rates_list = []\n",
    "    for key, value in max_currency.exchange_rates().items():\n",
    "        rates_list.append(value[\"Value\"])\n",
    "    return max(max_name)\n",
    "max_rate_2()"
   ]
  },
  {
   "cell_type": "markdown",
   "id": "worldwide-maria",
   "metadata": {},
   "source": [
    "## Задание 2"
   ]
  },
  {
   "cell_type": "code",
   "execution_count": 35,
   "id": "freelance-finish",
   "metadata": {},
   "outputs": [],
   "source": [
    "class RateWithDiff(Rate):\n",
    "    \"\"\"\n",
    "    Класс RateWithDiff наследует класс Rate\n",
    "    \"\"\"\n",
    "    def __init__(self, diff=False):\n",
    "        super().__init__(format_='value')\n",
    "        self.diff = diff\n",
    "    def previous_rate(self, currency):\n",
    "        \"\"\"\n",
    "        Метод previous_rate возвращает предыдущее значение курса\n",
    "        \"\"\"\n",
    "        response = self.exchange_rates()\n",
    "        return response[currency]['Previous']\n",
    "    def eur(self):\n",
    "        \"\"\"\n",
    "        Метод eur возвращает текущий курс при diff=False и\n",
    "        разницу между текущим и предыдущим курсом при diff=True\n",
    "        \"\"\"\n",
    "        if self.diff == True:\n",
    "            return abs(self.make_format('EUR') - self.previous_rate('EUR'))\n",
    "        return self.make_format('EUR')\n",
    "    def usd(self):\n",
    "        \"\"\"\n",
    "        Метод usd возвращает текущий курс при diff=False и\n",
    "        разницу между текущим и предыдущим курсом при diff=True\n",
    "        \"\"\"\n",
    "        if self.diff == True:\n",
    "            return abs(self.make_format('USD') - self.previous_rate('USD'))\n",
    "        return self.make_format('USD')\n",
    "    def AZN(self):\n",
    "        \"\"\"\n",
    "        Метод AZN возвращает текущий курс при diff=False и\n",
    "        разницу между текущим и предыдущим курсом при diff=True\n",
    "        \"\"\"\n",
    "        if self.diff == True:\n",
    "            return abs(self.make_format('AZN') - self.previous_rate('AZN'))\n",
    "        return self.make_format('AZN')"
   ]
  },
  {
   "cell_type": "code",
   "execution_count": 39,
   "id": "stable-things",
   "metadata": {},
   "outputs": [
    {
     "data": {
      "text/plain": [
       "89.6604"
      ]
     },
     "execution_count": 39,
     "metadata": {},
     "output_type": "execute_result"
    }
   ],
   "source": [
    "RateWithDiff().eur()"
   ]
  },
  {
   "cell_type": "code",
   "execution_count": 40,
   "id": "framed-newcastle",
   "metadata": {},
   "outputs": [
    {
     "data": {
      "text/plain": [
       "0.11769999999999925"
      ]
     },
     "execution_count": 40,
     "metadata": {},
     "output_type": "execute_result"
    }
   ],
   "source": [
    "RateWithDiff(diff=True).eur()"
   ]
  },
  {
   "cell_type": "markdown",
   "id": "civilian-jerusalem",
   "metadata": {
    "tags": []
   },
   "source": [
    "## Задание 3"
   ]
  },
  {
   "cell_type": "code",
   "execution_count": 1,
   "id": "limiting-university",
   "metadata": {},
   "outputs": [],
   "source": [
    "class Employee:\n",
    "    def __init__(self, name, seniority):\n",
    "        self.name = name\n",
    "        self.seniority = seniority\n",
    "        \n",
    "        self.grade = 1\n",
    "    \n",
    "    def grade_up(self):\n",
    "        \"\"\"Повышает уровень сотрудника\"\"\"\n",
    "        self.grade += 1\n",
    "    \n",
    "    def publish_grade(self):\n",
    "        \"\"\"Публикация результатов аккредитации сотрудников\"\"\"\n",
    "        print(self.name, self.grade)\n",
    "    \n",
    "    def check_if_it_is_time_for_upgrade(self):\n",
    "        pass"
   ]
  },
  {
   "cell_type": "code",
   "execution_count": 122,
   "id": "visible-headset",
   "metadata": {},
   "outputs": [],
   "source": [
    "class Designer(Employee):\n",
    "    def __init__(self, name, seniority):\n",
    "        super().__init__(name, seniority)\n",
    "        self.prize = 2\n",
    "        \n",
    "    def international_prize(self):\n",
    "        \"\"\"\n",
    "        Добавляет международную премию дизайнеру\n",
    "        \"\"\"\n",
    "        self.prize += 1\n",
    "        \n",
    "    def check_if_it_is_time_for_upgrade(self):\n",
    "        \"\"\"\n",
    "        Добавляет прохождение аккредитации и проверяет условие повышения сотрудника\n",
    "        на основании прохождения аккредитации и количества международных премий\n",
    "        \"\"\"\n",
    "        # прохождение аккредитации\n",
    "        self.seniority += 1\n",
    "        \n",
    "        # баллы за международные премии\n",
    "        self.seniority += self.prize * 2\n",
    "        \n",
    "        # условие повышения сотрудника\n",
    "        self.grade = self.seniority // 7\n",
    "        \n",
    "        # публикация результатов\n",
    "        return self.publish_grade()\n",
    "    def publish_grade(self):\n",
    "        \"\"\"Публикация результатов аккредитации сотрудников\"\"\"\n",
    "        print(self.name, self.grade)"
   ]
  },
  {
   "cell_type": "code",
   "execution_count": 127,
   "id": "moderate-nickel",
   "metadata": {},
   "outputs": [],
   "source": [
    "anton = Designer(\"Антон\", 0)"
   ]
  },
  {
   "cell_type": "code",
   "execution_count": 128,
   "id": "streaming-research",
   "metadata": {},
   "outputs": [
    {
     "name": "stdout",
     "output_type": "stream",
     "text": [
      "Антон 0\n"
     ]
    }
   ],
   "source": [
    "anton.check_if_it_is_time_for_upgrade()"
   ]
  },
  {
   "cell_type": "code",
   "execution_count": 125,
   "id": "going-purpose",
   "metadata": {},
   "outputs": [],
   "source": [
    "anton.international_prize()"
   ]
  },
  {
   "cell_type": "code",
   "execution_count": 129,
   "id": "important-saver",
   "metadata": {},
   "outputs": [
    {
     "name": "stdout",
     "output_type": "stream",
     "text": [
      "Антон 1\n",
      "Антон 2\n",
      "Антон 2\n",
      "Антон 3\n",
      "Антон 4\n",
      "Антон 5\n",
      "Антон 5\n",
      "Антон 6\n",
      "Антон 7\n",
      "Антон 7\n",
      "Антон 8\n",
      "Антон 9\n",
      "Антон 10\n",
      "Антон 10\n",
      "Антон 11\n",
      "Антон 12\n",
      "Антон 12\n",
      "Антон 13\n",
      "Антон 14\n",
      "Антон 15\n"
     ]
    }
   ],
   "source": [
    "for i in range(20):\n",
    "    anton.check_if_it_is_time_for_upgrade()"
   ]
  }
 ],
 "metadata": {
  "kernelspec": {
   "display_name": "Python 3",
   "language": "python",
   "name": "python3"
  },
  "language_info": {
   "codemirror_mode": {
    "name": "ipython",
    "version": 3
   },
   "file_extension": ".py",
   "mimetype": "text/x-python",
   "name": "python",
   "nbconvert_exporter": "python",
   "pygments_lexer": "ipython3",
   "version": "3.8.5"
  }
 },
 "nbformat": 4,
 "nbformat_minor": 5
}
