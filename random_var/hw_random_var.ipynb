{
 "cells": [
  {
   "cell_type": "markdown",
   "id": "d434e8eb",
   "metadata": {},
   "source": [
    "# Домашнее задание к лекции «Случайные события. Случайные величины»"
   ]
  },
  {
   "cell_type": "code",
   "execution_count": 1,
   "id": "2dd0a240",
   "metadata": {},
   "outputs": [],
   "source": [
    "import numpy as np"
   ]
  },
  {
   "cell_type": "markdown",
   "id": "44682c25",
   "metadata": {},
   "source": [
    "## Метод Монте-Карло"
   ]
  },
  {
   "cell_type": "markdown",
   "id": "4102e7c4",
   "metadata": {},
   "source": [
    "Смоделировать игру против лотерейного автомата типа “777”. Игрок платит 1 руб., после чего выпадает случайное целое число, равномерно распределенное от 0 до 999. При некоторых значениях числа игрок получает выигрыш (см. справа)\n",
    "\n",
    "- 777: 200 руб.\n",
    "- 999: 100 руб.\n",
    "- 555: 50 руб.\n",
    "- 333: 15 руб.\n",
    "- 111: 10 руб.\n",
    "- *77: 5 руб.\n",
    "- **7: 3 руб.\n",
    "- *00: 2 руб.\n",
    "- **0: 1 руб.\n",
    "- \\* – любая цифра"
   ]
  },
  {
   "cell_type": "code",
   "execution_count": 30,
   "id": "6010bdd5",
   "metadata": {},
   "outputs": [
    {
     "name": "stdout",
     "output_type": "stream",
     "text": [
      "0.806161\n"
     ]
    }
   ],
   "source": [
    "np.random.seed(None)\n",
    "trials = 1000000\n",
    "money = 0\n",
    "\n",
    "for i in range(trials):\n",
    "    random_combo = np.random.randint(0, 1000)\n",
    "    if random_combo == 777:\n",
    "        money += 200\n",
    "    elif random_combo == 999:\n",
    "        money += 100\n",
    "    elif random_combo == 555:\n",
    "        money += 50\n",
    "    elif random_combo == 333:\n",
    "        money += 15\n",
    "    elif random_combo == 111:\n",
    "        money += 10\n",
    "    elif random_combo % 100 == 77:\n",
    "        money += 5\n",
    "    elif random_combo % 10 == 7:\n",
    "        money += 3\n",
    "    elif random_combo % 100 == 0:\n",
    "        money += 2\n",
    "    elif random_combo % 10 == 0:\n",
    "        money += 1\n",
    "print(money/trials)"
   ]
  },
  {
   "cell_type": "markdown",
   "id": "68efff9a",
   "metadata": {},
   "source": [
    "## Теоретически рассчитать средний выигрыш (проигрыш) и сравнить с результатами моделирования"
   ]
  },
  {
   "cell_type": "code",
   "execution_count": 26,
   "id": "979ec966",
   "metadata": {},
   "outputs": [],
   "source": [
    "# Вероятность выпадения разных комбинаций цифр\n",
    "prob_3_identical = 1/10 * 1/10 * 1/10\n",
    "prob_2_identical = 1/10 * 1/10\n",
    "prob_1_specific = 1/10"
   ]
  },
  {
   "cell_type": "code",
   "execution_count": 39,
   "id": "2499fb10",
   "metadata": {},
   "outputs": [
    {
     "data": {
      "text/plain": [
       "0.8"
      ]
     },
     "execution_count": 39,
     "metadata": {},
     "output_type": "execute_result"
    }
   ],
   "source": [
    "# чтобы учесть вероятность *77 для **7 нужно вычесть уже учтенные варианты из текущей вероятности\n",
    "mean_prob = (200 * prob_3_identical) + (100 * prob_3_identical) + (50 * prob_3_identical) + (15 * prob_3_identical) + (10 * prob_3_identical) + (5 * 9/10 * 1/10 * 1/10) + (2 * prob_2_identical) + (3 * ((10/10 * 10/10 * 1/10) - prob_3_identical - (9/10 * 1/10 * 1/10))) + (1 * (prob_1_specific - prob_2_identical))\n",
    "mean_prob"
   ]
  }
 ],
 "metadata": {
  "kernelspec": {
   "display_name": "Python 3",
   "language": "python",
   "name": "python3"
  },
  "language_info": {
   "codemirror_mode": {
    "name": "ipython",
    "version": 3
   },
   "file_extension": ".py",
   "mimetype": "text/x-python",
   "name": "python",
   "nbconvert_exporter": "python",
   "pygments_lexer": "ipython3",
   "version": "3.8.5"
  }
 },
 "nbformat": 4,
 "nbformat_minor": 5
}
