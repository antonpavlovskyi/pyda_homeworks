{
 "cells": [
  {
   "cell_type": "markdown",
   "id": "b9f7c6e6",
   "metadata": {},
   "source": [
    "# Домашнее задание к лекции «Случайные события. Случайные величины»"
   ]
  },
  {
   "cell_type": "code",
   "execution_count": 2,
   "id": "f8da0fc6",
   "metadata": {},
   "outputs": [],
   "source": [
    "import numpy as np"
   ]
  },
  {
   "cell_type": "markdown",
   "id": "7b8ab9c2",
   "metadata": {},
   "source": [
    "Смоделировать игру против лотерейного автомата типа “777”. Игрок платит 1 руб., после чего выпадает случайное целое число, равномерно распределенное от 0 до 999. При некоторых значениях числа игрок получает выигрыш (см. справа)\n",
    "\n",
    "Выгодна ли игра игроку?\n",
    "\n",
    "Сколько в среднем приобретает\n",
    "или теряет игрок за одну игру?\n",
    "\n",
    "777: 200 руб.\n",
    "\n",
    "999: 100 руб.\n",
    "\n",
    "555: 50 руб.\n",
    "\n",
    "333: 15 руб.\n",
    "\n",
    "111: 10 руб.\n",
    "\n",
    "*77: 5 руб.\n",
    "\n",
    "**7: 3 руб.\n",
    "\n",
    "*00: 2 руб.\n",
    "\n",
    "**0: 1 руб.\n",
    "\n",
    "\\* – любая цифра\n",
    "\n",
    "Дополнительное задание повышенной сложности. Теоретически рассчитать средний выигрыш (проигрыш) и сравнить с результатами моделирования"
   ]
  },
  {
   "cell_type": "code",
   "execution_count": 17,
   "id": "444a5275",
   "metadata": {},
   "outputs": [
    {
     "name": "stdout",
     "output_type": "stream",
     "text": [
      "0.802917\n"
     ]
    }
   ],
   "source": [
    "# np.random.seed(None)\n",
    "trials = 1000000\n",
    "money = 0\n",
    "\n",
    "for i in range(trials):\n",
    "    # money -= 1\n",
    "    random_combo = np.random.randint(0, 1000)\n",
    "    if random_combo == 777:\n",
    "        money += 200\n",
    "    elif random_combo == 999:\n",
    "        money += 100\n",
    "    elif random_combo == 555:\n",
    "        money += 50\n",
    "    elif random_combo == 333:\n",
    "        money += 15\n",
    "    elif random_combo == 111:\n",
    "        money += 10\n",
    "    elif random_combo % 100 == 77:\n",
    "        money += 5\n",
    "    elif random_combo % 10 == 7:\n",
    "        money += 3\n",
    "    elif random_combo % 100 == 0:\n",
    "        money += 2\n",
    "    elif random_combo % 10 == 0:\n",
    "        money += 1\n",
    "print(money/trials)"
   ]
  },
  {
   "cell_type": "code",
   "execution_count": 7,
   "id": "1d259fbd",
   "metadata": {},
   "outputs": [],
   "source": [
    "# Вероятность выпадения разных комбинаций цифр\n",
    "prob_3_identical = 1/1000\n",
    "prob_2_identical = 1/100\n",
    "prob_1_specific = 1/10"
   ]
  },
  {
   "cell_type": "code",
   "execution_count": 8,
   "id": "7b4c1bcc",
   "metadata": {},
   "outputs": [
    {
     "data": {
      "text/plain": [
       "0.8450000000000001"
      ]
     },
     "execution_count": 8,
     "metadata": {},
     "output_type": "execute_result"
    }
   ],
   "source": [
    "mean_prob = (200 * prob_3_identical) + (100 * prob_3_identical) + (50 * prob_3_identical) + (15 * prob_3_identical) + (10 * prob_3_identical) + (5 * prob_2_identical) + (2 * prob_2_identical) + (3 * prob_1_specific) + (1 * prob_1_specific)\n",
    "mean_prob"
   ]
  },
  {
   "cell_type": "code",
   "execution_count": null,
   "id": "4f674ac3",
   "metadata": {},
   "outputs": [],
   "source": []
  }
 ],
 "metadata": {
  "kernelspec": {
   "display_name": "Python 3",
   "language": "python",
   "name": "python3"
  },
  "language_info": {
   "codemirror_mode": {
    "name": "ipython",
    "version": 3
   },
   "file_extension": ".py",
   "mimetype": "text/x-python",
   "name": "python",
   "nbconvert_exporter": "python",
   "pygments_lexer": "ipython3",
   "version": "3.8.5"
  }
 },
 "nbformat": 4,
 "nbformat_minor": 5
}
