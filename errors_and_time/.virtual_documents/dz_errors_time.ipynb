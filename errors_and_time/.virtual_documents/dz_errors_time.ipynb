from datetime import datetime


the_moscow_times = datetime.strptime("Wednesday, October 2, 2002", "%A, %B %d, %Y")
the_moscow_times


the_guardian = datetime.strptime("Friday, 11.10.13", "%A, %d.%m.%y")
the_guardian


daily_news = datetime.strptime("Thursday, 18 August 1977", "%A, %d %B %Y")
daily_news


def check_date(some_list):
    """
    Функция проверяет корректность дат в списке. возвращает True (дата корректна) или False (некорректная дата)
    """
    for date in some_list:
        year, month, day = date.split("-")
        try:
            if datetime(year=int(year), month=int(month), day=int(day)):
                validity = True
        except ValueError:
            validity = False
        print(validity)


check_date(["2018-04-02", "2018-02-29", "2018-19-02"])


from datetime import timedelta


final_list = []
date1 = "2021-02-10"
date2 = "2021-02-17"


def date_range(start_date, end_date):
    current_date = datetime.strptime(start_date, "%Y-%m-%d")
    while current_date.strftime("%Y-%m-%d") < end_date:
        print(current_date.strftime("%Y-%m-%d"))
        current_date += timedelta(days=1)


date_range(date1, date2)


def delete_and_return_last_user(region, default_list=["A100", "A101", "A102"]):
    """
    Удаляет из списка default_list последнего пользователя
    и возвращает ID нового последнего пользователя.
    """
    element_to_delete = default_list[-1]
    default_list.remove(element_to_delete)
    return default_list[-2]
delete_and_return_last_user(1)


delete_and_return_last_user(1)



