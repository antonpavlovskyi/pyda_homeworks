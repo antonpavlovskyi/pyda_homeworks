{
 "cells": [
  {
   "cell_type": "code",
   "execution_count": 3,
   "id": "frequent-quarterly",
   "metadata": {},
   "outputs": [
    {
     "name": "stdin",
     "output_type": "stream",
     "text": [
      "Введите число 4\n"
     ]
    },
    {
     "name": "stdout",
     "output_type": "stream",
     "text": [
      "10\n"
     ]
    }
   ],
   "source": [
    "# user_input = int(input(\"Введите число\"))\n",
    "# total = 0\n",
    "# for i in range(user_input + 1):\n",
    "#     total += i\n",
    "# print(total)\n",
    "\n",
    "num = int(input(\"введите число\"))\n",
    "print(sum(range(num + 1)))"
   ]
  },
  {
   "cell_type": "code",
   "execution_count": 6,
   "id": "connected-format",
   "metadata": {},
   "outputs": [
    {
     "name": "stdout",
     "output_type": "stream",
     "text": [
      "5\n",
      "10\n",
      "15\n",
      "20\n",
      "25\n",
      "30\n",
      "35\n",
      "40\n",
      "45\n",
      "50\n"
     ]
    }
   ],
   "source": [
    "number = 5\n",
    "# for i in range(1, 11):\n",
    "#     print(number * i)\n",
    "multiplier = [print(number * i) for i in range(1, 11)]"
   ]
  },
  {
   "cell_type": "code",
   "execution_count": 15,
   "id": "sought-sunglasses",
   "metadata": {},
   "outputs": [
    {
     "data": {
      "text/plain": [
       "103"
      ]
     },
     "execution_count": 15,
     "metadata": {},
     "output_type": "execute_result"
    }
   ],
   "source": [
    "data = [[13, 25, 23, 34],\n",
    "        [45, 32, 44, 47],\n",
    "        [12, 33, 23, 95],\n",
    "        [13, 53, 34, 35]]\n",
    "sum([colunm[row] for row, colunm in enumerate(data)])\n",
    "# sum([data[i][i] for i in range(len(data))])"
   ]
  },
  {
   "cell_type": "code",
   "execution_count": 11,
   "id": "interim-thickness",
   "metadata": {},
   "outputs": [
    {
     "data": {
      "text/plain": [
       "'b'"
      ]
     },
     "execution_count": 11,
     "metadata": {},
     "output_type": "execute_result"
    }
   ],
   "source": [
    "stats = {\"a\": 1, \"b\":4 , \"c\":2}\n",
    "top_key = 0\n",
    "top_value = 0\n",
    "for key, value in stats.items():\n",
    "    if value > top_value:\n",
    "        top_value = value\n",
    "        top_key = key\n",
    "top_key"
   ]
  },
  {
   "cell_type": "code",
   "execution_count": null,
   "id": "civil-lender",
   "metadata": {},
   "outputs": [],
   "source": []
  }
 ],
 "metadata": {
  "kernelspec": {
   "display_name": "Python 3",
   "language": "python",
   "name": "python3"
  },
  "language_info": {
   "codemirror_mode": {
    "name": "ipython",
    "version": 3
   },
   "file_extension": ".py",
   "mimetype": "text/x-python",
   "name": "python",
   "nbconvert_exporter": "python",
   "pygments_lexer": "ipython3",
   "version": "3.8.5"
  }
 },
 "nbformat": 4,
 "nbformat_minor": 5
}
