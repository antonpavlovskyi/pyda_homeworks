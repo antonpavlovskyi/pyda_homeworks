{
 "cells": [
  {
   "cell_type": "markdown",
   "id": "willing-celebration",
   "metadata": {},
   "source": [
    "# Домашнее задание к лекции \"Введение в типы данных и циклы. Часть 2\""
   ]
  },
  {
   "cell_type": "markdown",
   "id": "applicable-proceeding",
   "metadata": {
    "heading_collapsed": "true"
   },
   "source": [
    "## Задание 1"
   ]
  },
  {
   "cell_type": "code",
   "execution_count": 9,
   "id": "hearing-spelling",
   "metadata": {},
   "outputs": [
    {
     "name": "stdout",
     "output_type": "stream",
     "text": [
      "{98, 35, 15, 213, 54, 119}\n"
     ]
    }
   ],
   "source": [
    "ids = {\n",
    "    \"user1\": [213, 213, 213, 15, 213],\n",
    "    \"user2\": [54, 54, 119, 119, 119],\n",
    "    \"user3\": [213, 98, 98, 35],\n",
    "}\n",
    "# geo_coord_unique = set()\n",
    "# for geo_coord in ids.values():\n",
    "#     geo_coord_unique.update(geo_coord)\n",
    "# geo_coord_unique\n",
    "print(set(sum(ids.values(), [])))"
   ]
  },
  {
   "cell_type": "markdown",
   "id": "egyptian-designer",
   "metadata": {
    "heading_collapsed": "true"
   },
   "source": [
    "## Задание 2"
   ]
  },
  {
   "cell_type": "code",
   "execution_count": 39,
   "id": "biblical-transportation",
   "metadata": {},
   "outputs": [
    {
     "name": "stdout",
     "output_type": "stream",
     "text": [
      "Поисковых запросов, содержащих 2 слов(а): 42.86 %\n",
      "Поисковых запросов, содержащих 3 слов(а): 57.14 %\n"
     ]
    }
   ],
   "source": [
    "queries = [\n",
    "    \"смотреть сериалы онлайн\",\n",
    "    \"новости спорта\",\n",
    "    \"афиша кино\",\n",
    "    \"курс доллара\",\n",
    "    \"сериалы этим летом\",\n",
    "    \"курс по питону\",\n",
    "    \"сериалы про спорт\",\n",
    "]\n",
    "queries_lens = [len(query.split()) for query in queries]\n",
    "queries_count = {}\n",
    "for query in set(queries_lens):\n",
    "    queries_count[query] = queries_lens.count(query)\n",
    "total_count = sum(queries_count.values())\n",
    "for key, value in queries_count.items():\n",
    "    percent = round((value / total_count * 100), 2)\n",
    "    print(f\"Поисковых запросов, содержащих {key} слов(а): {percent} %\")"
   ]
  },
  {
   "cell_type": "markdown",
   "id": "entire-niger",
   "metadata": {
    "heading_collapsed": "true"
   },
   "source": [
    "## Задание 3"
   ]
  },
  {
   "cell_type": "code",
   "execution_count": 66,
   "id": "serious-lending",
   "metadata": {},
   "outputs": [
    {
     "name": "stdout",
     "output_type": "stream",
     "text": [
      "{'adwords': {'ROI': 2.94, 'cost': 34, 'revenue': 35},\n",
      " 'facebook': {'ROI': -6.36, 'cost': 110, 'revenue': 103},\n",
      " 'twitter': {'ROI': -54.17, 'cost': 24, 'revenue': 11},\n",
      " 'vk': {'ROI': 5.1, 'cost': 98, 'revenue': 103},\n",
      " 'yandex': {'ROI': 16.99, 'cost': 153, 'revenue': 179}}\n"
     ]
    }
   ],
   "source": [
    "import pprint\n",
    "\n",
    "results = {\n",
    "    \"vk\": {\"revenue\": 103, \"cost\": 98},\n",
    "    \"yandex\": {\"revenue\": 179, \"cost\": 153},\n",
    "    \"facebook\": {\"revenue\": 103, \"cost\": 110},\n",
    "    \"adwords\": {\"revenue\": 35, \"cost\": 34},\n",
    "    \"twitter\": {\"revenue\": 11, \"cost\": 24},\n",
    "}\n",
    "for key, value in results.items():\n",
    "    value[\"ROI\"] = round(((value[\"revenue\"] / value[\"cost\"] - 1) * 100), 2)\n",
    "pprint.pprint(results)"
   ]
  },
  {
   "cell_type": "markdown",
   "id": "painful-lesson",
   "metadata": {
    "heading_collapsed": "true"
   },
   "source": [
    "## Задание 4"
   ]
  },
  {
   "cell_type": "code",
   "execution_count": 3,
   "id": "innovative-thinking",
   "metadata": {},
   "outputs": [
    {
     "name": "stdout",
     "output_type": "stream",
     "text": [
      "Максимальный объем продаж на рекламном канале: vk\n"
     ]
    }
   ],
   "source": [
    "stats = {\"facebook\": 55, \"yandex\": 115, \"vk\": 120, \"google\": 99, \"email\": 42, \"ok\": 98}\n",
    "max_sales_val = max(stats.values())\n",
    "for key, value in stats.items():\n",
    "    if value == max_sales_val:\n",
    "        print(\"Максимальный объем продаж на рекламном канале:\", key)"
   ]
  },
  {
   "cell_type": "markdown",
   "id": "western-mattress",
   "metadata": {},
   "source": [
    "## Задание 5 (необязательно)"
   ]
  },
  {
   "cell_type": "code",
   "execution_count": 8,
   "id": "cross-marathon",
   "metadata": {},
   "outputs": [
    {
     "name": "stdout",
     "output_type": "stream",
     "text": [
      "{'2018-01-01': {'yandex': {'cpc': 100}}}\n"
     ]
    }
   ],
   "source": [
    "# Первый способ\n",
    "my_list = [\"2018-01-01\", \"yandex\", \"cpc\", 100]\n",
    "my_dict = current_dict = {}\n",
    "for i in range(len(my_list)):\n",
    "    if i < len(my_list) - 2:\n",
    "        current_dict[my_list[i]] = {}\n",
    "        current_dict = current_dict[my_list[i]]\n",
    "    else:\n",
    "        current_dict[my_list[i]] = my_list[-1]\n",
    "        break\n",
    "print(my_dict)"
   ]
  },
  {
   "cell_type": "code",
   "execution_count": 7,
   "id": "dental-tulsa",
   "metadata": {},
   "outputs": [
    {
     "name": "stdout",
     "output_type": "stream",
     "text": [
      "{'2018-01-01': {'yandex': {'cpc': 100}}}\n"
     ]
    }
   ],
   "source": [
    "# Второй способ\n",
    "my_list = [\"2018-01-01\", \"yandex\", \"cpc\", 100]\n",
    "my_list = my_list[::-1]\n",
    "my_dict = {}\n",
    "for i in range(len(my_list)):\n",
    "    if i == 1:\n",
    "        my_dict = {my_list[i]: my_list[0]}\n",
    "    else:\n",
    "        my_dict = {my_list[i]: my_dict}\n",
    "print(my_dict)"
   ]
  },
  {
   "cell_type": "markdown",
   "id": "absolute-nowhere",
   "metadata": {},
   "source": [
    "## Задание 6 (необязательно)"
   ]
  },
  {
   "cell_type": "code",
   "execution_count": 1,
   "id": "cordless-relaxation",
   "metadata": {},
   "outputs": [],
   "source": [
    "cook_book = {\n",
    "    \"салат\": [\n",
    "        {\"ingridient_name\": \"сыр\", \"quantity\": 50, \"measure\": \"гр\"},\n",
    "        {\"ingridient_name\": \"томаты\", \"quantity\": 2, \"measure\": \"шт\"},\n",
    "        {\"ingridient_name\": \"огурцы\", \"quantity\": 20, \"measure\": \"гр\"},\n",
    "        {\"ingridient_name\": \"маслины\", \"quantity\": 10, \"measure\": \"гр\"},\n",
    "        {\"ingridient_name\": \"оливковое масло\", \"quantity\": 20, \"measure\": \"мл\"},\n",
    "        {\"ingridient_name\": \"салат\", \"quantity\": 10, \"measure\": \"гр\"},\n",
    "        {\"ingridient_name\": \"перец\", \"quantity\": 20, \"measure\": \"гр\"},\n",
    "    ],\n",
    "    \"пицца\": [\n",
    "        {\"ingridient_name\": \"сыр\", \"quantity\": 20, \"measure\": \"гр\"},\n",
    "        {\"ingridient_name\": \"колбаса\", \"quantity\": 30, \"measure\": \"гр\"},\n",
    "        {\"ingridient_name\": \"бекон\", \"quantity\": 30, \"measure\": \"гр\"},\n",
    "        {\"ingridient_name\": \"оливки\", \"quantity\": 10, \"measure\": \"гр\"},\n",
    "        {\"ingridient_name\": \"томаты\", \"quantity\": 20, \"measure\": \"гр\"},\n",
    "        {\"ingridient_name\": \"тесто\", \"quantity\": 100, \"measure\": \"гр\"},\n",
    "    ],\n",
    "    \"лимонад\": [\n",
    "        {\"ingridient_name\": \"лимон\", \"quantity\": 1, \"measure\": \"шт\"},\n",
    "        {\"ingridient_name\": \"вода\", \"quantity\": 200, \"measure\": \"мл\"},\n",
    "        {\"ingridient_name\": \"сахар\", \"quantity\": 10, \"measure\": \"гр\"},\n",
    "        {\"ingridient_name\": \"лайм\", \"quantity\": 20, \"measure\": \"гр\"},\n",
    "    ],\n",
    "}"
   ]
  },
  {
   "cell_type": "code",
   "execution_count": 27,
   "id": "civil-house",
   "metadata": {},
   "outputs": [
    {
     "name": "stdin",
     "output_type": "stream",
     "text": [
      "Введите количество порций: 3\n"
     ]
    },
    {
     "name": "stdout",
     "output_type": "stream",
     "text": [
      "Результат:\n",
      "\n",
      "Сыр: 210 гр\n",
      "Томаты: 6 шт\n",
      "Огурцы: 60 гр\n",
      "Маслины: 30 гр\n",
      "Оливковое масло: 60 мл\n",
      "Салат: 30 гр\n",
      "Перец: 60 гр\n",
      "Колбаса: 90 гр\n",
      "Бекон: 90 гр\n",
      "Оливки: 30 гр\n",
      "Томаты: 60 гр\n",
      "Тесто: 300 гр\n",
      "Лимон: 3 шт\n",
      "Вода: 600 мл\n",
      "Сахар: 30 гр\n",
      "Лайм: 60 гр\n"
     ]
    }
   ],
   "source": [
    "# Первый способ, подсказанный Вами на вебинаре :)\n",
    "\n",
    "number_of_portions = int(input(\"Введите количество порций:\"))\n",
    "print(\"Результат:\")\n",
    "print()\n",
    "\n",
    "total_ingridients = {}\n",
    "for value in cook_book.values():\n",
    "    for ingr in value:\n",
    "        if (ingr[\"ingridient_name\"], ingr[\"measure\"]) in total_ingridients:\n",
    "            total_ingridients[ingr[\"ingridient_name\"], ingr[\"measure\"]] += ingr[\"quantity\"]\n",
    "        else:\n",
    "            total_ingridients[ingr[\"ingridient_name\"], ingr[\"measure\"]] = ingr[\"quantity\"]\n",
    "total_ingridients\n",
    "for ingridient, quantity in total_ingridients.items():\n",
    "    print(\n",
    "        f\"{ingridient[0].capitalize()}: {quantity * number_of_portions} {ingridient[1]}\"\n",
    "    )"
   ]
  },
  {
   "cell_type": "code",
   "execution_count": 3,
   "id": "included-alaska",
   "metadata": {},
   "outputs": [
    {
     "name": "stdin",
     "output_type": "stream",
     "text": [
      "Введите количество порций: 3\n"
     ]
    },
    {
     "name": "stdout",
     "output_type": "stream",
     "text": [
      "Результат:\n",
      "\n",
      "Сыр: 210 гр\n",
      "Томаты: 6 шт\n",
      "Огурцы: 60 гр\n",
      "Маслины: 30 гр\n",
      "Оливковое масло: 60 мл\n",
      "Салат: 30 гр\n",
      "Перец: 60 гр\n",
      "Колбаса: 90 гр\n",
      "Бекон: 90 гр\n",
      "Оливки: 30 гр\n",
      "Томаты: 60 гр\n",
      "Тесто: 300 гр\n",
      "Лимон: 3 шт\n",
      "Вода: 600 мл\n",
      "Сахар: 30 гр\n",
      "Лайм: 60 гр\n"
     ]
    }
   ],
   "source": [
    "# Второй способ, который я сам написал\n",
    "\n",
    "number_of_portions = int(input(\"Введите количество порций:\"))\n",
    "print(\"Результат:\")\n",
    "print()\n",
    "meals = []\n",
    "total_ingridients = []\n",
    "for i in range(len(cook_book)):\n",
    "    meal = f\"meal_{i+1}\"\n",
    "    meals.append(meal)\n",
    "renamed_keys = dict(zip(meals, list(cook_book.values())))\n",
    "\n",
    "for meal, value in zip(meals, list(cook_book.values())):\n",
    "    exec(f\"{meal} = {value}\")\n",
    "\n",
    "\n",
    "def find_same_ingrs_and_measures(first_meal, second_meal):\n",
    "    for i in first_meal:\n",
    "        for j in second_meal:\n",
    "            if (\n",
    "                i[\"ingridient_name\"] == j[\"ingridient_name\"]\n",
    "                and i[\"measure\"] == j[\"measure\"]\n",
    "            ):\n",
    "                updated_meal = {}\n",
    "                updated_meal[\"ingridient_name\"] = i[\"ingridient_name\"]\n",
    "                updated_meal[\"quantity\"] = i[\"quantity\"] + j[\"quantity\"]\n",
    "                updated_meal[\"measure\"] = i[\"measure\"]\n",
    "                total_ingridients.append(updated_meal)\n",
    "                first_meal.remove(i)\n",
    "                second_meal.remove(j)\n",
    "\n",
    "\n",
    "find_same_ingrs_and_measures(meal_1, meal_2)\n",
    "find_same_ingrs_and_measures(meal_1, meal_3)\n",
    "find_same_ingrs_and_measures(meal_2, meal_3)\n",
    "total_ingridients += meal_1 + meal_2 + meal_3\n",
    "\n",
    "for ingridient in total_ingridients:\n",
    "    print(\n",
    "        f\"{ingridient['ingridient_name'].capitalize()}: {ingridient['quantity'] * number_of_portions} {ingridient['measure']}\"\n",
    "    )"
   ]
  },
  {
   "cell_type": "code",
   "execution_count": null,
   "id": "binary-organizer",
   "metadata": {},
   "outputs": [],
   "source": []
  }
 ],
 "metadata": {
  "kernelspec": {
   "display_name": "Python 3",
   "language": "python",
   "name": "python3"
  },
  "language_info": {
   "codemirror_mode": {
    "name": "ipython",
    "version": 3
   },
   "file_extension": ".py",
   "mimetype": "text/x-python",
   "name": "python",
   "nbconvert_exporter": "python",
   "pygments_lexer": "ipython3",
   "version": "3.8.5"
  },
  "toc-autonumbering": false,
  "toc-showmarkdowntxt": false
 },
 "nbformat": 4,
 "nbformat_minor": 5
}
