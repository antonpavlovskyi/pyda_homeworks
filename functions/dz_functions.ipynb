{
 "cells": [
  {
   "cell_type": "markdown",
   "id": "acute-drawing",
   "metadata": {},
   "source": [
    "# Домашнее задание к лекции \"Функции\""
   ]
  },
  {
   "cell_type": "code",
   "execution_count": null,
   "id": "advance-spine",
   "metadata": {},
   "outputs": [],
   "source": [
    "documents = [\n",
    "    {\"type\": \"passport\", \"number\": \"2207 876234\", \"name\": \"Василий Гупкин\"},\n",
    "    {\"type\": \"invoice\", \"number\": \"11-2\", \"name\": \"Геннадий Покемонов\"},\n",
    "    {\"type\": \"insurance\", \"number\": \"10006\", \"name\": \"Аристарх Павлов\"},\n",
    "]\n",
    "\n",
    "directories = {\"1\": [\"2207 876234\", \"11-2\"], \"2\": [\"10006\"], \"3\": []}\n",
    "\n",
    "\n",
    "def current_shelves(dirs):\n",
    "    return \", \".join(list(dirs.keys()))"
   ]
  },
  {
   "cell_type": "markdown",
   "id": "otherwise-perth",
   "metadata": {},
   "source": [
    "## Задание 1"
   ]
  },
  {
   "cell_type": "markdown",
   "id": "powerful-economics",
   "metadata": {},
   "source": [
    "### Пункт 1. Пользователь по команде \"p\" может узнать владельца документа по его номеру"
   ]
  },
  {
   "cell_type": "code",
   "execution_count": null,
   "id": "needed-falls",
   "metadata": {},
   "outputs": [],
   "source": [
    "def doc_owner(docs):\n",
    "    doc_number = input(\"Введите номер документа: \")\n",
    "    for value in docs:\n",
    "        if value[\"number\"] == doc_number:\n",
    "            return f\"Владелец документа: {value['name']}\"\n",
    "    return \"Документ не найден в базе\""
   ]
  },
  {
   "cell_type": "markdown",
   "id": "optimum-serial",
   "metadata": {},
   "source": [
    "### Пункт 2. Пользователь по команде \"s\" может по номеру документа узнать на какой полке он хранится"
   ]
  },
  {
   "cell_type": "code",
   "execution_count": null,
   "id": "parallel-analysis",
   "metadata": {},
   "outputs": [],
   "source": [
    "def shelf_number(dirs):\n",
    "    doc_number = input(\"Введите номер документа: \")\n",
    "    for key, value in dirs.items():\n",
    "        if doc_number in value:\n",
    "            return f\"Документ хранится на полке: {key}\"\n",
    "    return \"Документ не найден в базе\""
   ]
  },
  {
   "cell_type": "markdown",
   "id": "assigned-instrument",
   "metadata": {},
   "source": [
    "### Пункт 3. Пользователь по команде \"l\" может увидеть полную информацию по всем документам"
   ]
  },
  {
   "cell_type": "code",
   "execution_count": null,
   "id": "engaged-retreat",
   "metadata": {},
   "outputs": [],
   "source": [
    "def shelf_number_l(dirs, shelf_number_input):\n",
    "    for key, value in dirs.items():\n",
    "        if shelf_number_input in value:\n",
    "            return f\"{key}\"\n",
    "\n",
    "\n",
    "def full_info(docs, dirs):\n",
    "    full_list = []\n",
    "    for value_doc in docs:\n",
    "        item = f\"№: {value_doc['number']}, тип: {value_doc['type']}, Владелец: {value_doc['name']}, полка хранения: {shelf_number_l(dirs, value_doc['number'])}\"\n",
    "        full_list.append(item)\n",
    "    return \"\\n\".join(full_list)"
   ]
  },
  {
   "cell_type": "markdown",
   "id": "bulgarian-stage",
   "metadata": {},
   "source": [
    "### Пункт 4. Пользователь по команде \"ads\" может добавить новую полку"
   ]
  },
  {
   "cell_type": "code",
   "execution_count": null,
   "id": "listed-geology",
   "metadata": {},
   "outputs": [],
   "source": [
    "def shelf_add(dirs):\n",
    "    shelf_number = input(\"Введите номер полки: \")\n",
    "    if shelf_number in dirs:\n",
    "        return f\"Такая полка уже существует. Текущий перечень полок: { current_shelves(dirs)}\"\n",
    "    for key in dirs:\n",
    "        dirs[shelf_number] = []\n",
    "        return f\"Полка добавлена. Текущий перечень полок: {current_shelves(dirs)}\""
   ]
  },
  {
   "cell_type": "markdown",
   "id": "romantic-bottom",
   "metadata": {},
   "source": [
    "### Пункт 5. Пользователь по команде \"ds\" может удалить существующую полку из данных (только если она пустая)"
   ]
  },
  {
   "cell_type": "code",
   "execution_count": null,
   "id": "shared-perth",
   "metadata": {},
   "outputs": [],
   "source": [
    "def shelf_del(dirs):\n",
    "    shelf_number = input(\"Введите номер полки: \")\n",
    "    if shelf_number in dirs:\n",
    "        if dirs[shelf_number]:\n",
    "            return f\"На полке есть документ(ы), удалите их перед удалением полки. Текущий перечень полок: {current_shelves(dirs)}\"\n",
    "        else:\n",
    "            del dirs[shelf_number]\n",
    "            return f\"Полка удалена. Текущий перечень полок: {current_shelves(dirs)}\"\n",
    "    return f\"Такой полки не существует. Текущий перечень полок: {current_shelves(dirs)}\""
   ]
  },
  {
   "cell_type": "markdown",
   "id": "unnecessary-cornell",
   "metadata": {},
   "source": [
    "## Задание 2 (необязательное)"
   ]
  },
  {
   "cell_type": "markdown",
   "id": "latter-testament",
   "metadata": {},
   "source": [
    "### Пункт 1. Пользователь по команде \"ad\" может добавить новый документ в данные"
   ]
  },
  {
   "cell_type": "code",
   "execution_count": null,
   "id": "systematic-cookbook",
   "metadata": {},
   "outputs": [],
   "source": [
    "def doc_ad(docs, dirs):\n",
    "    doc_number = input(\"Введите номер документа: \")\n",
    "    for value in docs:\n",
    "        if doc_number == value[\"number\"]:\n",
    "            return \"Такой документ уже существует.\"\n",
    "    doc_type = input(\"Введите тип документа: \")\n",
    "    doc_owner = input(\"Введите владельца документа: \")\n",
    "    for value in docs:\n",
    "        if doc_owner == value[\"name\"] and doc_type == value[\"type\"]:\n",
    "            return f\"У {doc_owner} уже есть документ такого типа.\"\n",
    "    shelf_number = input(\"Введите полку для хранения: \")\n",
    "    if shelf_number not in dirs.keys():\n",
    "        return f\"Такой полки не существует.\\nДобавьте полку командой as.\\nТекущий список документов:\\n{full_info(docs, dirs)}\"\n",
    "    new_file = {}\n",
    "    new_file[\"type\"] = doc_type\n",
    "    new_file[\"number\"] = doc_number\n",
    "    new_file[\"name\"] = doc_owner\n",
    "    docs.append(new_file)\n",
    "    dirs[shelf_number].append(doc_number)\n",
    "    return f\"Документ добавлен.\\nТекущий список документов:\\n{full_info(docs, dirs)}\"\n",
    "# print(doc_ad(documents, directories))"
   ]
  },
  {
   "cell_type": "markdown",
   "id": "eleven-remark",
   "metadata": {},
   "source": [
    "### Пункт 2. Пользователь по команде \"d\" может удалить документ из данных"
   ]
  },
  {
   "cell_type": "code",
   "execution_count": null,
   "id": "apparent-split",
   "metadata": {},
   "outputs": [],
   "source": [
    "import copy\n",
    "\n",
    "\n",
    "def doc_del(docs, dirs):\n",
    "    doc_number = input(\"Введите номер документа: \")\n",
    "    docs_copy = copy.deepcopy(docs)\n",
    "    # print(docs_copy)\n",
    "    for value in docs_copy:\n",
    "        if doc_number == value[\"number\"]:\n",
    "            docs.remove(value)\n",
    "            return (\n",
    "                f\"Документ удален.\\nТекущий список документов:\\n{full_info(docs, dirs)}\"\n",
    "            )\n",
    "    return f\"Документ не найден в базе.\\nТекущий список документов:\\n{full_info(docs, dirs)}\""
   ]
  },
  {
   "cell_type": "markdown",
   "id": "dress-colonial",
   "metadata": {},
   "source": [
    "### Пункт 3. Пользователь по команде \"m\" может переместить документ с полки на полку"
   ]
  },
  {
   "cell_type": "code",
   "execution_count": null,
   "id": "altered-uzbekistan",
   "metadata": {},
   "outputs": [],
   "source": [
    "def shelf_move(docs, dirs):\n",
    "    doc_number = input(\"Введите номер документа: \")\n",
    "    new_shelf_number = input(\"Введите номер полки: \")\n",
    "    dirs_copy = copy.deepcopy(dirs)\n",
    "    if new_shelf_number in dirs:\n",
    "        for key, value in dirs_copy.items():\n",
    "            if doc_number in dirs[key]:\n",
    "                if key != new_shelf_number:\n",
    "                    dirs[key].remove(doc_number)\n",
    "                    dirs[new_shelf_number].append(doc_number)\n",
    "                    dirs_copy = dirs\n",
    "                    return f\"Документ перемещен.\\nТекущий список документов:\\n{full_info(docs, dirs)}\"\n",
    "                return f\"Документ уже на полке {new_shelf_number}.\\nТекущий список документов:\\n{full_info(docs, dirs)}\"\n",
    "        return f\"Документ не найден в базе.\\nТекущий список документов:\\n{full_info(docs, dirs)}\"\n",
    "    return f\"Такой полки не существует. Текущий перечень полок: {current_shelves(dirs)}\""
   ]
  },
  {
   "cell_type": "markdown",
   "id": "boring-cooling",
   "metadata": {},
   "source": [
    "#### While cycle for commads and execution"
   ]
  },
  {
   "cell_type": "code",
   "execution_count": null,
   "id": "registered-myrtle",
   "metadata": {},
   "outputs": [],
   "source": [
    "def main(docs, dirs):\n",
    "    while True:\n",
    "        command = input(\"Введите команду: \")\n",
    "        if command == \"p\":\n",
    "            print(doc_owner(docs))\n",
    "        elif command == \"s\":\n",
    "            print(shelf_number(dirs))\n",
    "        elif command == \"l\":\n",
    "            print(full_info(docs, dirs))\n",
    "        elif command == \"ads\":\n",
    "            print(shelf_add(dirs))\n",
    "        elif command == \"ds\":\n",
    "            print(shelf_del(dirs))\n",
    "        elif command == \"ad\":\n",
    "            print(doc_ad(docs, dirs))\n",
    "        elif command == \"d\":\n",
    "            print(doc_del(docs, dirs))\n",
    "        elif command == \"m\":\n",
    "            print(shelf_move(docs, dirs))\n",
    "        elif command == \"w\":\n",
    "            print(\"Пока, пока!\")\n",
    "            break\n",
    "\n",
    "\n",
    "main(documents, directories)"
   ]
  },
  {
   "cell_type": "code",
   "execution_count": null,
   "id": "removed-exhibit",
   "metadata": {},
   "outputs": [],
   "source": []
  }
 ],
 "metadata": {
  "kernelspec": {
   "display_name": "Python 3",
   "language": "python",
   "name": "python3"
  },
  "language_info": {
   "codemirror_mode": {
    "name": "ipython",
    "version": 3
   },
   "file_extension": ".py",
   "mimetype": "text/x-python",
   "name": "python",
   "nbconvert_exporter": "python",
   "pygments_lexer": "ipython3",
   "version": "3.8.5"
  }
 },
 "nbformat": 4,
 "nbformat_minor": 5
}
