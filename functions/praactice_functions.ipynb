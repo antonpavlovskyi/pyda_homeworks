{
 "cells": [
  {
   "cell_type": "code",
   "execution_count": 8,
   "id": "express-tongue",
   "metadata": {},
   "outputs": [
    {
     "name": "stdout",
     "output_type": "stream",
     "text": [
      "это палиндром\n"
     ]
    }
   ],
   "source": [
    "def is_palind(word):\n",
    "    word = word.lower()\n",
    "    if word == word[::-1]:\n",
    "        return \"это палиндром\"\n",
    "    else:\n",
    "        return \"это не палиндром\"\n",
    "print(is_palind(\"Алла\"))"
   ]
  },
  {
   "cell_type": "code",
   "execution_count": 14,
   "id": "cathedral-elevation",
   "metadata": {},
   "outputs": [
    {
     "name": "stdout",
     "output_type": "stream",
     "text": [
      "9333.33\n"
     ]
    }
   ],
   "source": [
    "dict_1 = {'flat_1': 10500, 'flat_2': 11000}\n",
    "dict_2 = {'flat_3': 15000}\n",
    "dict_3 = {'flat_4': 6500, 'flat_5': 7000, 'flat_6': 6000}\n",
    "def average(*districts):\n",
    "    money_count = 0\n",
    "    flat_count = 0\n",
    "    for dist in districts:\n",
    "        for money in dist.values():\n",
    "            money_count += money\n",
    "            flat_count += 1\n",
    "    return round((money_count / flat_count), 2)\n",
    "print(average(dict_1, dict_2, dict_3))"
   ]
  },
  {
   "cell_type": "code",
   "execution_count": 23,
   "id": "other-greece",
   "metadata": {},
   "outputs": [
    {
     "name": "stdout",
     "output_type": "stream",
     "text": [
      "9333.33\n"
     ]
    }
   ],
   "source": [
    "dict_1 = {'flat_1': 10500, 'flat_2': 11000}\n",
    "dict_2 = {'flat_3': 15000}\n",
    "dict_3 = {'flat_4': 6500, 'flat_5': 7000, 'flat_6': 6000}\n",
    "def average(*districts):\n",
    "    money_count = 0\n",
    "    flat_count = 0\n",
    "    for dist in districts:\n",
    "        money_count += sum(dist.values())\n",
    "        flat_count += len(dist.keys())\n",
    "    return round((money_count / flat_count), 2)\n",
    "print(average(dict_1, dict_2, dict_3))"
   ]
  },
  {
   "cell_type": "code",
   "execution_count": 34,
   "id": "humanitarian-mountain",
   "metadata": {},
   "outputs": [
    {
     "data": {
      "text/plain": [
       "[325.0, 350.0, 125.0, 850.0]"
      ]
     },
     "execution_count": 34,
     "metadata": {},
     "output_type": "execute_result"
    }
   ],
   "source": [
    "prices = [[100, 200, 400, 600], [200, 500], [100, 200, 100, 100], [800, 900]]\n",
    "\n",
    "# lambda *districts: sum(dist)/ len(dist)\n",
    "avg  = list(map(lambda dist: sum(dist) / len(dist), prices))\n",
    "avg"
   ]
  },
  {
   "cell_type": "code",
   "execution_count": null,
   "id": "unlimited-excellence",
   "metadata": {},
   "outputs": [],
   "source": []
  }
 ],
 "metadata": {
  "kernelspec": {
   "display_name": "Python 3",
   "language": "python",
   "name": "python3"
  },
  "language_info": {
   "codemirror_mode": {
    "name": "ipython",
    "version": 3
   },
   "file_extension": ".py",
   "mimetype": "text/x-python",
   "name": "python",
   "nbconvert_exporter": "python",
   "pygments_lexer": "ipython3",
   "version": "3.8.5"
  }
 },
 "nbformat": 4,
 "nbformat_minor": 5
}
